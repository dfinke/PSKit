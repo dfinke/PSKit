{
 "cells": [
  {
   "cell_type": "code",
   "execution_count": 3,
   "metadata": {},
   "outputs": [
    {
     "data": {
      "text/html": "<div id=\"46f0c7bc-6c48-4b57-9083-3943568b07d9\" style=\"width: 900px; height: 500px;\"></div>\r\n<script type=\"text/javascript\">\r\n\r\nvar renderPlotly = function() {\r\n    var xplotRequire = require.config({context:'xplot-3.0.1',paths:{plotly:'https://cdn.plot.ly/plotly-1.49.2.min'}}) || require;\r\n    xplotRequire(['plotly'], function(Plotly) {\r\n\n            var data = [{\"type\":\"bar\",\"x\":[10,7,12],\"y\":[\"lions\",\"tigers\",\"bears\"],\"orientation\":\"h\"}];\n            var layout = {\"title\":\"\"};\n            Plotly.newPlot('46f0c7bc-6c48-4b57-9083-3943568b07d9', data, layout);\n        \r\n});\r\n};\r\nif ((typeof(require) !==  typeof(Function)) || (typeof(require.config) !== typeof(Function))) {\r\n    var script = document.createElement(\"script\"); \r\n    script.setAttribute(\"src\", \"https://cdnjs.cloudflare.com/ajax/libs/require.js/2.3.6/require.min.js\");\r\n    script.onload = function(){\r\n        renderPlotly();\r\n    };\r\n    document.getElementsByTagName(\"head\")[0].appendChild(script); \r\n}\r\nelse {\r\n    renderPlotly();\r\n}\r\n</script>\r\n"
     },
     "metadata": {
      "transient": {
       "display_id": "70843208-8032-4ac4-a9e0-815887b9fed3"
      }
     },
     "output_type": "display_data"
    }
   ],
   "source": [
    "$chart = [Graph.Bar]::new()\r\n",
    "\r\n",
    "$chart.x = 10,7,12\r\n",
    "$chart.y = 'lions', 'tigers', 'bears'\r\n",
    "$chart.orientation='h'\r\n",
    "\r\n",
    "New-PlotlyChart -Trace $chart | Out-Display"
   ]
  },
  {
   "cell_type": "code",
   "execution_count": 6,
   "metadata": {},
   "outputs": [
    {
     "data": {
      "text/html": "<div id=\"29c4ab6f-4196-44c1-884e-b6ab7a29512c\" style=\"width: 900px; height: 500px;\"></div>\r\n<script type=\"text/javascript\">\r\n\r\nvar renderPlotly = function() {\r\n    var xplotRequire = require.config({context:'xplot-3.0.1',paths:{plotly:'https://cdn.plot.ly/plotly-1.49.2.min'}}) || require;\r\n    xplotRequire(['plotly'], function(Plotly) {\r\n\n            var data = [{\"type\":\"bar\",\"x\":[10,7,12],\"y\":[\"lions\",\"tigers\",\"bears\"],\"orientation\":\"h\"}];\n            var layout = {\"title\":\"\"};\n            Plotly.newPlot('29c4ab6f-4196-44c1-884e-b6ab7a29512c', data, layout);\n        \r\n});\r\n};\r\nif ((typeof(require) !==  typeof(Function)) || (typeof(require.config) !== typeof(Function))) {\r\n    var script = document.createElement(\"script\"); \r\n    script.setAttribute(\"src\", \"https://cdnjs.cloudflare.com/ajax/libs/require.js/2.3.6/require.min.js\");\r\n    script.onload = function(){\r\n        renderPlotly();\r\n    };\r\n    document.getElementsByTagName(\"head\")[0].appendChild(script); \r\n}\r\nelse {\r\n    renderPlotly();\r\n}\r\n</script>\r\n"
     },
     "metadata": {
      "transient": {
       "display_id": "98bc348d-74bb-4360-b470-8243666fed49"
      }
     },
     "output_type": "display_data"
    }
   ],
   "source": [
    "$chart = [Graph.Bar]@{\r\n",
    "    x           = 10, 7, 12\r\n",
    "    y           = 'lions', 'tigers', 'bears'\r\n",
    "    orientation = 'h'\r\n",
    "}\r\n",
    "\r\n",
    "New-PlotlyChart -Trace $chart | Out-Display"
   ]
  }
 ],
 "metadata": {
  "kernelspec": {
   "display_name": ".NET (PowerShell)",
   "name": ".net-powershell"
  },
  "language_info": {
   "file_extension": ".ps1",
   "mimetype": "text/x-powershell",
   "name": "PowerShell",
   "pygments_lexer": "powershell",
   "version": "7.0"
  },
  "orig_nbformat": 2
 },
 "nbformat": 4,
 "nbformat_minor": 2
}