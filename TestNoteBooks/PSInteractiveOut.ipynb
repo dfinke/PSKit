{
  "cells": [
    {
      "cell_type": "code",
      "execution_count": 1,
      "metadata": {
        "dotnet_interactive": {
          "language": "pwsh"
        }
      },
      "source": [
        "# injected parameters        \n",
        "$payload = @'\n",
        "{\n",
        "  \"max\": 15\n",
        "}\n",
        "'@ | ConvertFrom-Json\n",
        "\n",
        "$names = $payload.psobject.Properties.name\n",
        "$names | foreach-object { Set-Variable -Name $_ -Value $payload.$_ }\n",
        "\n",
        "Remove-Variable payload -ErrorAction SilentlyContinue\n",
        "Remove-Variable names -ErrorAction SilentlyContinue"
      ],
      "outputs": []
    },
    {
      "cell_type": "markdown",
      "metadata": {},
      "source": [
        "# Get-Process and Where"
      ]
    },
    {
      "cell_type": "code",
      "execution_count": 1,
      "metadata": {
        "dotnet_interactive": {
          "language": "pwsh"
        }
      },
      "source": [
        "Get-Process | ? {$_.Handles -gt 1700}"
      ],
      "outputs": [
        {
          "output_type": "execute_result",
          "data": {
            "text/plain": "\r\n NPM(K)    PM(M)      WS(M)     CPU(s)      Id  SI ProcessName\r\n ------    -----      -----     ------      --  -- -----------\r\n    856   135.86     160.11      99.06    9860   1 explorer\r\n     29    10.70      22.36       0.00     836   0 lsass\r\n    102   171.03     268.19     292.70   12740   1 msedge\r\n     73   391.84     352.72     337.94   18000   1 msedge\r\n     21    12.44      18.61       0.00    1240   0 svchost\r\n     18    27.62      35.73       0.00    3020   0 svchost\r\n      0     0.19       0.14       0.00       4   0 System\r\n"
          },
          "execution_count": 1,
          "metadata": {}
        }
      ]
    },
    {
      "cell_type": "markdown",
      "metadata": {},
      "source": [
        "# Ranges"
      ]
    },
    {
      "cell_type": "code",
      "execution_count": 1,
      "metadata": {
        "dotnet_interactive": {
          "language": "pwsh"
        }
      },
      "source": [
        "$max = !$max ? 10 : $max"
      ],
      "outputs": []
    },
    {
      "cell_type": "markdown",
      "metadata": {},
      "source": [
        "## Even Numbers"
      ]
    },
    {
      "cell_type": "code",
      "execution_count": 1,
      "metadata": {
        "dotnet_interactive": {
          "language": "pwsh"
        }
      },
      "source": [
        "1..$max | ? {$_ % 2 -eq 1}"
      ],
      "outputs": [
        {
          "output_type": "execute_result",
          "data": {
            "text/plain": "1\r\n3\r\n5\r\n7\r\n9\r\n11\r\n13\r\n15"
          },
          "execution_count": 1,
          "metadata": {}
        }
      ]
    },
    {
      "cell_type": "markdown",
      "metadata": {},
      "source": [
        "## Odd Numbers"
      ]
    },
    {
      "cell_type": "code",
      "execution_count": 1,
      "metadata": {
        "dotnet_interactive": {
          "language": "pwsh"
        }
      },
      "source": [
        "1..$max | ? {$_ % 2 -eq 0}"
      ],
      "outputs": [
        {
          "output_type": "execute_result",
          "data": {
            "text/plain": "2\r\n4\r\n6\r\n8\r\n10\r\n12\r\n14"
          },
          "execution_count": 1,
          "metadata": {}
        }
      ]
    }
  ],
  "metadata": {
    "kernelspec": {
      "display_name": ".NET (C#)",
      "language": "C#",
      "name": ".net-csharp"
    },
    "language_info": {
      "file_extension": ".cs",
      "mimetype": "text/x-csharp",
      "name": "C#",
      "pygments_lexer": "csharp",
      "version": "8.0"
    }
  },
  "nbformat": 4,
  "nbformat_minor": 4
}