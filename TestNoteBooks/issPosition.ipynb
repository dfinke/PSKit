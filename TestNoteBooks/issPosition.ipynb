{
 "cells": [
  {
   "cell_type": "code",
   "execution_count": 40,
   "metadata": {},
   "outputs": [
    {
     "data": {
      "text/plain": "[                    timestamp  message  iss_position\n latitude  2021-05-23 18:41:31  success       51.6140\n longitude 2021-05-23 18:41:31  success       32.7673,\n                     timestamp  message  iss_position\n latitude  2021-05-23 18:41:31  success       51.6134\n longitude 2021-05-23 18:41:31  success       32.8173,\n                     timestamp  message  iss_position\n latitude  2021-05-23 18:41:32  success       51.6122\n longitude 2021-05-23 18:41:32  success       32.9175,\n                     timestamp  message  iss_position\n latitude  2021-05-23 18:41:33  success       51.6115\n longitude 2021-05-23 18:41:33  success       32.9675,\n                     timestamp  message  iss_position\n latitude  2021-05-23 18:41:33  success       51.6108\n longitude 2021-05-23 18:41:33  success       33.0176,\n                     timestamp  message  iss_position\n latitude  2021-05-23 18:41:34  success       51.6094\n longitude 2021-05-23 18:41:34  success       33.1177,\n                     timestamp  message  iss_position\n latitude  2021-05-23 18:41:35  success       51.6087\n longitude 2021-05-23 18:41:35  success       33.1678,\n                     timestamp  message  iss_position\n latitude  2021-05-23 18:41:35  success       51.6079\n longitude 2021-05-23 18:41:35  success       33.2178,\n                     timestamp  message  iss_position\n latitude  2021-05-23 18:41:36  success       51.6063\n longitude 2021-05-23 18:41:36  success       33.3179,\n                     timestamp  message  iss_position\n latitude  2021-05-23 18:41:37  success       51.6054\n longitude 2021-05-23 18:41:37  success       33.3680]"
     },
     "execution_count": 40,
     "metadata": {},
     "output_type": "execute_result"
    }
   ],
   "source": [
    "import pandas as pd\r\n",
    "import plotly.express as px\r\n",
    "import time\r\n",
    "\r\n",
    "url = 'http://api.open-notify.org/iss-now.json'\r\n",
    "\r\n",
    "data = []\r\n",
    "for x in range(10):\r\n",
    "    data.append(pd.read_json(url))\r\n",
    "    time.sleep(.5)\r\n",
    "    \r\n",
    "data\r\n",
    "\r\n",
    "# df = pd.DataFrame(data)\r\n",
    "# df\r\n",
    "\r\n",
    "# data.append(pd.read_json(url))\r\n",
    "\r\n",
    "# data\r\n",
    "# dfBase = pd.read_json(url)\r\n",
    "# dfBase['latitude'] = dfBase.loc['latitude', 'iss_position']\r\n",
    "# dfBase['longitude'] = dfBase.loc['longitude', 'iss_position']\r\n",
    "# dfBase.reset_index()\r\n",
    "\r\n",
    "# dfBase\r\n",
    "\r\n",
    "# time.sleep(2)\r\n",
    "# df = pd.read_json(url)\r\n",
    "# df['latitude'] = df.loc['latitude', 'iss_position']\r\n",
    "# df['longitude'] = df.loc['longitude', 'iss_position']\r\n",
    "# df.reset_index(inplace=True)\r\n",
    "# dfBase.append(df, ignore_index=True)\r\n",
    "# dfBase\r\n",
    "\r\n",
    "\r\n",
    "# fig = px.scatter_geo(df, lat='latitude', lon='longitude')\r\n",
    "# fig.show()\r\n"
   ]
  },
  {
   "cell_type": "code",
   "execution_count": null,
   "metadata": {},
   "outputs": [],
   "source": []
  }
 ],
 "metadata": {
  "interpreter": {
   "hash": "2db524e06e9f5f4ffedc911c917cb75e12dbc923643829bf417064a77eb14d37"
  },
  "kernelspec": {
   "display_name": "Python 3.8.2 64-bit",
   "name": "python3"
  },
  "language_info": {
   "codemirror_mode": {
    "name": "ipython",
    "version": 3
   },
   "file_extension": ".py",
   "mimetype": "text/x-python",
   "name": "python",
   "nbconvert_exporter": "python",
   "pygments_lexer": "ipython3",
   "version": "3.8.2"
  },
  "orig_nbformat": 3
 },
 "nbformat": 4,
 "nbformat_minor": 2
}