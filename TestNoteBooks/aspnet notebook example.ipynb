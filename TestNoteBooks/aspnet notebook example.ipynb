{
  "cells": [
    {
      "cell_type": "code",
      "execution_count": 1,
      "metadata": {
        "dotnet_interactive": {
          "language": "csharp"
        }
      },
      "source": [
        "#r \"nuget:microsoft.dotnet.interactive.aspnetcore, *-*\"\n",
        "#r \"nuget:microsoft.dotnet.interactive.extensionlab, *-*\""
      ],
      "outputs": []
    },
    {
      "cell_type": "code",
      "execution_count": 1,
      "metadata": {
        "dotnet_interactive": {
          "language": "csharp"
        }
      },
      "source": [
        "#!aspnet\n",
        "\n",
        "// #!value --from pwsh data\n",
        "\n",
        "Endpoints.MapInteractive(\"/GetEndpoint\", async context => \n",
        "{\n",
        "    if(context.Request.Method.ToLowerInvariant()==\"get\") {\n",
        "        await context.Response.WriteAsJsonAsync(new\n",
        "        {\n",
        "            Hello =\"from .NET Interactive!\",\n",
        "            Also=new object[] {\"this\",\"is\",\"an\", new[] {'a','r','r','a','y'} }\n",
        "        });\n",
        "    }\n",
        "    else {\n",
        "        context.Response.StatusCode=405;\n",
        "        await context.Response.CompleteAsync();\n",
        "    }\n",
        "});\n",
        "\n",
        "Endpoints.MapInteractive(\"/PostEndpoint\", async context => \n",
        "{\n",
        "    if(context.Request.Method.ToLowerInvariant()==\"post\") {\n",
        "        var requestBody = await context.Request.ReadFromJsonAsync<object>();\n",
        "        await context.Response.WriteAsJsonAsync(requestBody);\n",
        "    }\n",
        "    else {\n",
        "        context.Response.StatusCode=405;\n",
        "        await context.Response.CompleteAsync();        \n",
        "    }\n",
        "});"
      ],
      "outputs": []
    },
    {
      "cell_type": "code",
      "execution_count": 1,
      "metadata": {
        "dotnet_interactive": {
          "language": "csharp"
        }
      },
      "source": [
        "// var s = \"{\\\"value\\\":1}\";\n",
        "// await HttpClient.PostAsync(\"/PostEndpoint\", new StringContent(s, System.Text.Encoding.UTF8,\"application/json\"));\n",
        "\n",
        "await HttpClient.GetAsync(\"/GetEndpoint\")"
      ],
      "outputs": []
    },
    {
      "cell_type": "code",
      "execution_count": 1,
      "metadata": {
        "dotnet_interactive": {
          "language": "csharp"
        }
      },
      "source": [
        "var t=typeof(List<int>);\n",
        "t.ExploreWithUmlClassDiagram()"
      ],
      "outputs": []
    },
    {
      "cell_type": "code",
      "execution_count": 1,
      "metadata": {
        "dotnet_interactive": {
          "language": "pwsh"
        }
      },
      "source": [
        "$s=(Get-Service) #[0].GetType()\n",
        "\n",
        "# [Microsoft.DotNet.Interactive.ExtensionLab.ExplainWithMermaidExtensions]::ExploreWithUmlClassDiagram()\n",
        "# [Microsoft.DotNet.Interactive.ExtensionLab]::ExploreWithUmlClassDiagram([int])\n",
        "# [Microsoft.DotNet.Interactive.ExtensionLab]::ExplainWithMermaidExtensions::ExploreWithUmlClassDiagram\n",
        "\n",
        "#[object[]]$i=1,2,3\n",
        "# $r = New-Object \"System.Collections.Generic.List[Int]\"\n",
        "# $r.add(10)\n",
        "# $r.add(\"a\")\n",
        "\n",
        "# $r.GetType()\n",
        "#[System.ExplainWithMermaidExtensions]::ExploreWithUmlClassDiagram($i.GetType())"
      ],
      "outputs": []
    },
    {
      "cell_type": "code",
      "execution_count": 1,
      "metadata": {
        "dotnet_interactive": {
          "language": "csharp"
        }
      },
      "source": [
        "// #!share --from pwsh r\n",
        "\n",
        "// typeof(r);\n",
        "// #.ExploreWithUmlClassDiagram()\n",
        ""
      ],
      "outputs": []
    }
  ],
  "metadata": {
    "kernelspec": {
      "display_name": ".NET (C#)",
      "language": "C#",
      "name": ".net-csharp"
    },
    "language_info": {
      "file_extension": ".cs",
      "mimetype": "text/x-csharp",
      "name": "C#",
      "pygments_lexer": "csharp",
      "version": "8.0"
    }
  },
  "nbformat": 4,
  "nbformat_minor": 4
}