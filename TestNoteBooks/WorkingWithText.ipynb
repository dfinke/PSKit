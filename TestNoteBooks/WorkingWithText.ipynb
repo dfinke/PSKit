{
 "cells": [
  {
   "cell_type": "code",
   "execution_count": 24,
   "metadata": {},
   "outputs": [],
   "source": [
    "Import-Module PSKit -force\n",
    "Import-Module PowerShellHumanizer -force\n"
   ]
  },
  {
   "cell_type": "code",
   "execution_count": 3,
   "metadata": {},
   "outputs": [],
   "source": [
    "$inspections = Read-Csv \"D:\\PandasInAction\\pandas-in-action-master\\Chapter 9 - Working with Text Data\\chicago_food_inspections.csv\""
   ]
  },
  {
   "cell_type": "code",
   "execution_count": 5,
   "metadata": {},
   "outputs": [
    {
     "name": "stdout",
     "output_type": "stream",
     "text": [
      "MARRIOT MARQUIS CHICAGO   \n",
      "JET'S PIZZA \n",
      "ROOM 1520 \n",
      "MARRIOT MARQUIS CHICAGO  \n",
      "CHARTWELLS \n"
     ]
    }
   ],
   "source": [
    "$inspections.Name.Head()"
   ]
  },
  {
   "cell_type": "code",
   "execution_count": 14,
   "metadata": {},
   "outputs": [
    {
     "name": "stdout",
     "output_type": "stream",
     "text": [
      "cheesecake \n",
      " cheesecake\n",
      "cheesecake\n"
     ]
    }
   ],
   "source": [
    "$word = \" cheesecake \"\n",
    "$word.LStrip()\n",
    "$word.RStrip()\n",
    "$word.Strip()"
   ]
  },
  {
   "cell_type": "code",
   "execution_count": 18,
   "metadata": {},
   "outputs": [
    {
     "name": "stdout",
     "output_type": "stream",
     "text": [
      "MARRIOT MARQUIS CHICAGO\n",
      "JET'S PIZZA\n",
      "ROOM 1520\n",
      "MARRIOT MARQUIS CHICAGO\n",
      "CHARTWELLS\n"
     ]
    }
   ],
   "source": [
    "($inspections.Name | % {$_.strip()}).head()"
   ]
  },
  {
   "cell_type": "code",
   "execution_count": 25,
   "metadata": {},
   "outputs": [
    {
     "name": "stdout",
     "output_type": "stream",
     "text": [
      "Marriot Marquis Chicago\n",
      "Jet's Pizza\n",
      "Room 1520\n",
      "Marriot Marquis Chicago\n",
      "Chartwells\n"
     ]
    }
   ],
   "source": [
    "($inspections.Name | % {$_.strip().lower().title()}).head()"
   ]
  },
  {
   "cell_type": "code",
   "execution_count": 26,
   "metadata": {},
   "outputs": [
    {
     "name": "stdout",
     "output_type": "stream",
     "text": [
      "Marriot marquis chicago\n",
      "Jet's pizza\n",
      "Room 1520\n",
      "Marriot marquis chicago\n",
      "Chartwells\n"
     ]
    }
   ],
   "source": [
    "($inspections.Name | % {$_.strip().lower().capitalize()}).head()"
   ]
  },
  {
   "cell_type": "code",
   "execution_count": 36,
   "metadata": {},
   "outputs": [
    {
     "data": {
      "text/html": [
       "<table>\n",
       "<thead>\n",
       "<tr>\n",
       "<th>Name</th>\n",
       "<th>Count</th>\n",
       "</tr>\n",
       "</thead>\n",
       "<tbody>\n",
       "<tr>\n",
       "<td>Risk 1 (High)</td>\n",
       "<td>107351</td>\n",
       "</tr>\n",
       "<tr>\n",
       "<td>Risk 2 (Medium)</td>\n",
       "<td>31845</td>\n",
       "</tr>\n",
       "<tr>\n",
       "<td>Risk 3 (Low)</td>\n",
       "<td>14529</td>\n",
       "</tr>\n",
       "<tr>\n",
       "<td>Risk 4 (Extreme)</td>\n",
       "<td>19</td>\n",
       "</tr>\n",
       "</tbody>\n",
       "</table>\n"
      ]
     },
     "metadata": {},
     "output_type": "display_data"
    }
   ],
   "source": [
    "$null=$inspections.replaceall('all','Risk 4 (Extreme)')\n",
    "#$inspections.Risk.dropna().ValueCount() | ft Name, Count -a\n",
    "$inspections.Risk.dropna().ValueCount() | select Name, Count | ctmt"
   ]
  }
 ],
 "metadata": {
  "kernelspec": {
   "display_name": ".NET (PowerShell)",
   "language": "PowerShell",
   "name": ".net-powershell"
  },
  "language_info": {
   "file_extension": ".ps1",
   "mimetype": "text/x-powershell",
   "name": "PowerShell",
   "pygments_lexer": "powershell",
   "version": "7.0"
  }
 },
 "nbformat": 4,
 "nbformat_minor": 4
}
