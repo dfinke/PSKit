{
  "cells": [
    {
      "cell_type": "code",
      "execution_count": 1,
      "metadata": {
        "dotnet_interactive": {
          "language": "csharp"
        }
      },
      "source": [
        "#i \"nuget:https://pkgs.dev.azure.com/dnceng/public/_packaging/dotnet5/nuget/v3/index.json\"\n",
        "#i \"nuget:https://pkgs.dev.azure.com/dnceng/public/_packaging/dotnet-tools/nuget/v3/index.json\"\n",
        "#r \"nuget:Microsoft.DotNet.Interactive.ExtensionLab,*-*\"\n",
        "\n",
        "using Microsoft.Data.Analysis;\n",
        "using Microsoft.ML;\n",
        "using System.Collections.Generic;"
      ],
      "outputs": []
    },
    {
      "cell_type": "code",
      "execution_count": 1,
      "metadata": {
        "dotnet_interactive": {
          "language": "pwsh"
        }
      },
      "source": [
        "$housingPath = \"housing.csv\"\n",
        "if(!(Test-Path $housingPath)) {\n",
        "    Invoke-RestMethod \"https://raw.githubusercontent.com/ageron/handson-ml2/master/datasets/housing/housing.csv\" -OutFile $housingPath\n",
        "}\n",
        "\n",
        "#!csharp\n",
        "#!share --from pwsh housingPath\n",
        "\n",
        "var housingData = DataFrame.LoadCsv(housingPath);\n",
        "housingData.ExploreWithSandDance()"
      ],
      "outputs": []
    }
  ],
  "metadata": {
    "kernelspec": {
      "display_name": ".NET (C#)",
      "language": "C#",
      "name": ".net-csharp"
    },
    "language_info": {
      "file_extension": ".cs",
      "mimetype": "text/x-csharp",
      "name": "C#",
      "pygments_lexer": "csharp",
      "version": "8.0"
    }
  },
  "nbformat": 4,
  "nbformat_minor": 4
}