{
 "cells": [
  {
   "cell_type": "code",
   "execution_count": 1,
   "metadata": {},
   "outputs": [
    {
     "data": {
      "text/html": [
       "\r\n",
       "<div>\r\n",
       "    <div id='dotnet-interactive-this-cell-51761' style='display: none'>\r\n",
       "        The below script needs to be able to find the current output cell; this is an easy method to get it.\r\n",
       "    </div>\r\n",
       "    <script type='text/javascript'>\r\n",
       "// ensure `requirejs` is available globally\r\n",
       "if (typeof requirejs !== typeof Function || typeof requirejs.config !== typeof Function) {\r\n",
       "    let requirejs_script = document.createElement('script');\r\n",
       "    requirejs_script.setAttribute('src', 'https://cdnjs.cloudflare.com/ajax/libs/require.js/2.3.6/require.min.js');\r\n",
       "    requirejs_script.setAttribute('type', 'text/javascript');\r\n",
       "    requirejs_script.onload = function () {\r\n",
       "        loadDotnetInteractiveApi();\r\n",
       "    };\r\n",
       "\r\n",
       "    document.getElementsByTagName('head')[0].appendChild(requirejs_script);\r\n",
       "}\r\n",
       "else {\r\n",
       "    loadDotnetInteractiveApi();\r\n",
       "}\r\n",
       "\r\n",
       "async function probeAddresses(probingAddresses) {\r\n",
       "    function timeout(ms, promise) {\r\n",
       "        return new Promise(function (resolve, reject) {\r\n",
       "            setTimeout(function () {\r\n",
       "                reject(new Error('timeout'))\r\n",
       "            }, ms)\r\n",
       "            promise.then(resolve, reject)\r\n",
       "        })\r\n",
       "    }\r\n",
       "\r\n",
       "    if (Array.isArray(probingAddresses)) {\r\n",
       "        for (let i = 0; i < probingAddresses.length; i++) {\r\n",
       "\r\n",
       "            let rootUrl = probingAddresses[i];\r\n",
       "\r\n",
       "            if (!rootUrl.endsWith('/')) {\r\n",
       "                rootUrl = `${rootUrl}/`;\r\n",
       "            }\r\n",
       "\r\n",
       "            try {\r\n",
       "                let response = await timeout(1000, fetch(`${rootUrl}discovery`, {\r\n",
       "                    method: 'POST',\r\n",
       "                    timeout: 1000,\r\n",
       "                    headers: {\r\n",
       "                        'Content-Type': 'text/plain'\r\n",
       "                    },\r\n",
       "                    body: probingAddresses[i]\r\n",
       "                }));\r\n",
       "\r\n",
       "                if (response.status == 200) {\r\n",
       "                    return rootUrl;\r\n",
       "                }\r\n",
       "            }\r\n",
       "            catch (e) { }\r\n",
       "        }\r\n",
       "    }\r\n",
       "}\r\n",
       "\r\n",
       "function loadDotnetInteractiveApi() {\r\n",
       "    probeAddresses([\"http://192.168.0.6:51761/\", \"http://172.17.250.209:51761/\", \"http://127.0.0.1:51761/\"])\r\n",
       "        .then((root) => {\r\n",
       "            // use probing to find host url and api resources\r\n",
       "            // load interactive helpers and language services\r\n",
       "            let dotnet_require = requirejs.config({\r\n",
       "                context: '20732.51761',\r\n",
       "                paths: {\r\n",
       "                    'dotnet-interactive': `${root}resources`\r\n",
       "                }\r\n",
       "            });\r\n",
       "            if (!window.dotnet_require) {\r\n",
       "                window.dotnet_require = dotnet_require;\r\n",
       "            }\r\n",
       "        \r\n",
       "            dotnet_require([\r\n",
       "                    'dotnet-interactive/dotnet-interactive',\r\n",
       "                    'dotnet-interactive/lsp',\r\n",
       "                    'dotnet-interactive/editor-detection'\r\n",
       "                ],\r\n",
       "                function (dotnet, lsp, editor) {\r\n",
       "                    dotnet.init(window);\r\n",
       "                    \r\n",
       "                },\r\n",
       "                function (error) {\r\n",
       "                    console.log(error);\r\n",
       "                }\r\n",
       "            );\r\n",
       "        })\r\n",
       "        .catch(error => {console.log(error);});\r\n",
       "    }\r\n",
       "    </script>\r\n",
       "</div>"
      ]
     },
     "metadata": {},
     "output_type": "display_data"
    },
    {
     "data": {
      "text/plain": []
     },
     "metadata": {},
     "output_type": "display_data"
    },
    {
     "name": "stdout",
     "output_type": "stream",
     "text": [
      "\n",
      "FirstURL                                Text\n",
      "--------                                ----\n",
      "https://duckduckgo.com/Sausage          Sausage A cylindrical meat product usually made from groun…\n",
      "https://duckduckgo.com/Sausage_(band)   Sausage (band) A short-lived alternative/funk rock band fe…\n",
      "https://duckduckgo.com/Sausage_Software Sausage Software An Australian software company, founded b…\n",
      "https://duckduckgo.com/dachshund        Sausage dog A short-legged, long-bodied, hound-type dog br…\n",
      "\n"
     ]
    }
   ],
   "source": [
    "$raw = Invoke-WebRequest 'http://api.duckduckgo.com?q=Sausages&format=json'\n",
    "$results = ConvertFrom-Json $raw.Content\n",
    "\n",
    "$results.RelatedTopics | Select-Object FirstUrl, Text"
   ]
  },
  {
   "cell_type": "code",
   "execution_count": 2,
   "metadata": {},
   "outputs": [
    {
     "name": "stdout",
     "output_type": "stream",
     "text": [
      "\n",
      "FirstURL                                Text\n",
      "--------                                ----\n",
      "https://duckduckgo.com/Sausage          Sausage A cylindrical meat product usually made from groun…\n",
      "https://duckduckgo.com/Sausage_(band)   Sausage (band) A short-lived alternative/funk rock band fe…\n",
      "https://duckduckgo.com/Sausage_Software Sausage Software An Australian software company, founded b…\n",
      "https://duckduckgo.com/dachshund        Sausage dog A short-legged, long-bodied, hound-type dog br…\n",
      "\n"
     ]
    }
   ],
   "source": [
    "$results = Invoke-RestMethod 'http://api.duckduckgo.com?q=Sausages&format=json'\n",
    "$results.RelatedTopics | Select-Object FirstUrl, Text"
   ]
  },
  {
   "cell_type": "code",
   "execution_count": 3,
   "metadata": {},
   "outputs": [],
   "source": [
    "function Search-DuckDuckGo {\n",
    "    param($query)\n",
    "\n",
    "    (Invoke-RestMethod \"http://api.duckduckgo.com?q=$($query)&format=json\").RelatedTopics\n",
    "}"
   ]
  },
  {
   "cell_type": "code",
   "execution_count": 7,
   "metadata": {},
   "outputs": [
    {
     "name": "stdout",
     "output_type": "stream",
     "text": [
      "\n",
      "FirstURL                                Text\n",
      "--------                                ----\n",
      "https://duckduckgo.com/Sausage          Sausage A cylindrical meat product usually made from groun…\n",
      "https://duckduckgo.com/Sausage_(band)   Sausage (band) A short-lived alternative/funk rock band fe…\n",
      "https://duckduckgo.com/Sausage_Software Sausage Software An Australian software company, founded b…\n",
      "https://duckduckgo.com/dachshund        Sausage dog A short-legged, long-bodied, hound-type dog br…\n",
      "\n"
     ]
    }
   ],
   "source": [
    "Search-DuckDuckGo Sausages | Select-Object FirstUrl, Text "
   ]
  },
  {
   "cell_type": "code",
   "execution_count": 8,
   "metadata": {
    "scrolled": false
   },
   "outputs": [
    {
     "data": {
      "text/html": [
       "<table>\n",
       "<thead>\n",
       "<tr>\n",
       "<th>FirstURL</th>\n",
       "<th>Text</th>\n",
       "</tr>\n",
       "</thead>\n",
       "<tbody>\n",
       "<tr>\n",
       "<td>https://duckduckgo.com/Sausage</td>\n",
       "<td>Sausage A cylindrical meat product usually made from ground meat, often pork, beef, or veal, along...</td>\n",
       "</tr>\n",
       "<tr>\n",
       "<td>https://duckduckgo.com/Sausage_(band)</td>\n",
       "<td>Sausage (band) A short-lived alternative/funk rock band featuring a reunion of the 1988 lineup of the San...</td>\n",
       "</tr>\n",
       "<tr>\n",
       "<td>https://duckduckgo.com/Sausage_Software</td>\n",
       "<td>Sausage Software An Australian software company, founded by entrepreneur Steve Outtrim, which produced one of the...</td>\n",
       "</tr>\n",
       "<tr>\n",
       "<td>https://duckduckgo.com/dachshund</td>\n",
       "<td>Sausage dog A short-legged, long-bodied, hound-type dog breed.</td>\n",
       "</tr>\n",
       "</tbody>\n",
       "</table>\n"
      ]
     },
     "metadata": {},
     "output_type": "display_data"
    }
   ],
   "source": [
    "Search-DuckDuckGo Sausages | Select-Object FirstUrl, Text | ctmt"
   ]
  }
 ],
 "metadata": {
  "kernelspec": {
   "display_name": ".NET (PowerShell)",
   "language": "PowerShell",
   "name": ".net-powershell"
  },
  "language_info": {
   "file_extension": ".ps1",
   "mimetype": "text/x-powershell",
   "name": "PowerShell",
   "pygments_lexer": "powershell",
   "version": "7.0"
  }
 },
 "nbformat": 4,
 "nbformat_minor": 4
}
