{
  "cells": [
    {
      "cell_type": "code",
      "execution_count": 1,
      "metadata": {
        "dotnet_interactive": {
          "language": "sql"
        }
      },
      "source": [
        "select * from table"
      ],
      "outputs": [
        {
          "output_type": "execute_result",
          "data": {
            "text/html": "\r\n<p>A SQL connection has not been established.</p>\r\n<p>To connect to a database, first add the SQL extension package by running the following in a C# cell:</p>\r\n<code>\r\n    <pre>\r\n    #r \"nuget:Microsoft.DotNet.Interactive.SqlServer,*-*\"\r\n    </pre>\r\n</code>\r\nNow, you can connect to a Microsoft SQL Server database by running the following in a C# cell:\r\n<code>\r\n    <pre>\r\n    #!connect mssql --kernel-name mydatabase \"Persist Security Info=False; Integrated Security=true; Initial Catalog=MyDatabase; Server=localhost\"\r\n    </pre>\r\n</code>\r\n<p>Once a connection is established, you can send SQL statements by prefixing them with the magic command for your connection.</p>\r\n<code>\r\n    <pre>\r\n    #!sql-mydatabase\r\n    SELECT * FROM MyDatabase.MyTable\r\n    </pre>\r\n</code>\r\n"
          },
          "execution_count": 1,
          "metadata": {}
        }
      ]
    },
    {
      "cell_type": "code",
      "execution_count": 1,
      "metadata": {
        "dotnet_interactive": {
          "language": "pwsh"
        }
      },
      "source": [
        "Get-Process | ? Company | Select-Object Company, Name, Handles -First 3"
      ],
      "outputs": [
        {
          "output_type": "execute_result",
          "data": {
            "text/plain": "\r\n"
          },
          "execution_count": 1,
          "metadata": {}
        },
        {
          "output_type": "execute_result",
          "data": {
            "text/plain": "Company               Name                   Handles\r\n"
          },
          "execution_count": 1,
          "metadata": {}
        },
        {
          "output_type": "execute_result",
          "data": {
            "text/plain": "-------               ----                   -------\r\n"
          },
          "execution_count": 1,
          "metadata": {}
        },
        {
          "output_type": "execute_result",
          "data": {
            "text/plain": "Microsoft Corporation ApplicationFrameHost       595\r\n"
          },
          "execution_count": 1,
          "metadata": {}
        },
        {
          "output_type": "execute_result",
          "data": {
            "text/plain": "Dell Technologies     AWCC                       776\r\n"
          },
          "execution_count": 1,
          "metadata": {}
        },
        {
          "output_type": "execute_result",
          "data": {
            "text/plain": "Dell Technologies     AWCC.Background.Server     936\r\n"
          },
          "execution_count": 1,
          "metadata": {}
        },
        {
          "output_type": "execute_result",
          "data": {
            "text/plain": "\r\n"
          },
          "execution_count": 1,
          "metadata": {}
        }
      ]
    }
  ],
  "metadata": {
    "kernelspec": {
      "display_name": ".NET (C#)",
      "language": "C#",
      "name": ".net-csharp"
    },
    "language_info": {
      "file_extension": ".cs",
      "mimetype": "text/x-csharp",
      "name": "C#",
      "pygments_lexer": "csharp",
      "version": "8.0"
    }
  },
  "nbformat": 4,
  "nbformat_minor": 4
}