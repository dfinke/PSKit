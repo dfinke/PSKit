{
  "cells": [
    {
      "cell_type": "code",
      "execution_count": 1,
      "metadata": {
        "dotnet_interactive": {
          "language": "pwsh"
        }
      },
      "source": [
        "$xl=New-Object -ComObject excel.application\n",
        "$xl.Visible=$true\n",
        ""
      ],
      "outputs": []
    },
    {
      "cell_type": "code",
      "execution_count": 1,
      "metadata": {
        "dotnet_interactive": {
          "language": "pwsh"
        }
      },
      "source": [
        "$wb=$xl.Workbooks.add()\n",
        "# Get sheet1\n",
        "$ws=$wb.Worksheets[\"Sheet1\"]\n",
        "\n",
        "# Headers\n",
        "$ws.Cells[1, 1].Value = \"ID\"\n",
        "$ws.Cells[1, 2].Value = \"Product\"\n",
        "$ws.Cells[1, 3].Value = \"Quantity\"\n",
        "$ws.Cells[1, 4].Value = \"Price\"\n",
        "$ws.Cells[1, 5].Value = \"Value\"\n",
        ""
      ],
      "outputs": []
    }
  ],
  "metadata": {
    "kernelspec": {
      "display_name": ".NET (C#)",
      "language": "C#",
      "name": ".net-csharp"
    },
    "language_info": {
      "file_extension": ".cs",
      "mimetype": "text/x-csharp",
      "name": "C#",
      "pygments_lexer": "csharp",
      "version": "8.0"
    }
  },
  "nbformat": 4,
  "nbformat_minor": 4
}