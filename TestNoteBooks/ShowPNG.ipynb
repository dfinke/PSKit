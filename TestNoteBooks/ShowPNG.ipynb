{
 "cells": [
  {
   "cell_type": "markdown",
   "metadata": {},
   "source": [
    "# What's in $π"
   ]
  },
  {
   "cell_type": "code",
   "execution_count": null,
   "metadata": {},
   "outputs": [],
   "source": [
    "$π = 22 / 7\n",
    "\n",
    "$π"
   ]
  },
  {
   "cell_type": "markdown",
   "metadata": {},
   "source": [
    "# Reverse a string"
   ]
  },
  {
   "cell_type": "code",
   "execution_count": null,
   "metadata": {},
   "outputs": [],
   "source": [
    "$s =“abcde”.ToCharArray()\n",
    "[array]::reverse($s)\n",
    "-join $s"
   ]
  },
  {
   "cell_type": "code",
   "execution_count": 21,
   "metadata": {},
   "outputs": [
    {
     "name": "stdout",
     "output_type": "stream",
     "text": [
      "0\n",
      "1\n",
      "2\n",
      "3\n",
      "4\n"
     ]
    }
   ],
   "source": [
    "#for n in range(5):\n",
    "#    print(n, end=' ')\n",
    "#    n = 5\n",
    "\n",
    "foreach($n in 0..4) {\n",
    "    \"$n\"\n",
    "    $n=5\n",
    "#}"
   ]
  },
  {
   "cell_type": "code",
   "execution_count": 14,
   "metadata": {},
   "outputs": [
    {
     "data": {
      "text/html": [
       "\n",
       "<img src='http://dotnetfoundation.org/img/dot_bot.png' width='300'/>"
      ]
     },
     "metadata": {},
     "output_type": "display_data"
    }
   ],
   "source": [
    "# $Display = [KernelInvocationContextExtensions]::Display([KernelInvocationContext]::Current, [HtmlString]\"<img src='http://dotnetfoundation.org/img/dot_bot.png' width='300'/>\", \"text/html\")\n",
    "function Show-PNG {\n",
    "    param(\n",
    "        $src='http://dotnetfoundation.org/img/dot_bot.png',\n",
    "        $width=300\n",
    "    )\n",
    "    \n",
    "    # $html=\"<img src='http://dotnetfoundation.org/img/dot_bot.png' width='300'/>\"\n",
    "    \n",
    "    $html=\"<img src='{0}' width='{1}'/>\" -f $src, $width\n",
    "\n",
    "    $Display=[Microsoft.DotNet.Interactive.KernelInvocationContextExtensions]::Display([Microsoft.DotNet.Interactive.KernelInvocationContext]::Current,[Microsoft.AspNetCore.Html.HtmlString]$html, \"text/html\")    \n",
    "}\n",
    "\n",
    "#Show-PNG -width 100\n",
    "#Show-PNG -width 200\n",
    "#Show-PNG -width 300\n",
    "\n",
    "#Show-PNG -src https://dotnetfoundation.org/img/globe_icon.png -width 100\n",
    "\n",
    "#\"<img src='http://dotnetfoundation.org/img/dot_bot.png' width='300'/>\" | Out-Display -MimeType \"text/html\"\n",
    "\n",
    "#!html\n",
    "<img src='http://dotnetfoundation.org/img/dot_bot.png' width='300'/>"
   ]
  }
 ],
 "metadata": {
  "kernelspec": {
   "display_name": ".NET (PowerShell)",
   "language": "PowerShell",
   "name": ".net-powershell"
  },
  "language_info": {
   "file_extension": ".ps1",
   "mimetype": "text/x-powershell",
   "name": "PowerShell",
   "pygments_lexer": "powershell",
   "version": "7.0"
  }
 },
 "nbformat": 4,
 "nbformat_minor": 4
}
