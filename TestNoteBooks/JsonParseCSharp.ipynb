{
 "cells": [
  {
   "cell_type": "code",
   "execution_count": null,
   "metadata": {
    "dotnet_interactive": {
     "language": "csharp"
    }
   },
   "outputs": [],
   "source": [
    "#!value --name json --mime-type application/json\r\n",
    "{\"hello\": \"world\", \"someNumbers\": [1,2,3,4,5]}\r\n"
   ]
  },
  {
   "cell_type": "code",
   "execution_count": null,
   "metadata": {
    "dotnet_interactive": {
     "language": "csharp"
    }
   },
   "outputs": [],
   "source": [
    "#!share json --from value \r\n",
    "System.Text.Json.JsonDocument.Parse(json)\r\n"
   ]
  },
  {
   "cell_type": "code",
   "execution_count": null,
   "metadata": {
    "dotnet_interactive": {
     "language": "pwsh"
    }
   },
   "outputs": [],
   "source": [
    "$json = ConvertTo-Json  @{\r\n",
    "    'hello'='world'\r\n",
    "    'someStuff'= Get-Process | Where Company |  Select -First 4 Company, Name, Handles\r\n",
    "}\r\n",
    "\r\n",
    "##!csharp\r\n",
    "##!share json --from pwsh\r\n",
    "#System.Text.Json.JsonDocument.Parse(json)"
   ]
  },
  {
   "cell_type": "code",
   "execution_count": null,
   "metadata": {
    "dotnet_interactive": {
     "language": "csharp"
    }
   },
   "outputs": [],
   "source": [
    "#!share json --from pwsh\r\n",
    "\r\n",
    "System.Text.Json.JsonDocument.Parse(json)"
   ]
  }
 ],
 "metadata": {
  "kernelspec": {
   "display_name": ".NET (C#)",
   "language": "C#",
   "name": ".net-csharp"
  },
  "language_info": {
   "file_extension": ".cs",
   "mimetype": "text/x-csharp",
   "name": "C#",
   "pygments_lexer": "csharp",
   "version": "9.0"
  },
  "orig_nbformat": 2
 },
 "nbformat": 4,
 "nbformat_minor": 2
}