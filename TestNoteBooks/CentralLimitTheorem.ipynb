{
  "cells": [
    {
      "cell_type": "markdown",
      "metadata": {},
      "source": [
        "# Install Plotly"
      ]
    },
    {
      "cell_type": "code",
      "execution_count": 1,
      "metadata": {
        "dotnet_interactive": {
          "language": "csharp"
        }
      },
      "source": [
        "\n",
        "#r \"nuget: XPlot.Plotly.Interactive\""
      ],
      "outputs": [
        {
          "output_type": "execute_result",
          "data": {
            "text/plain": "Installed package XPlot.Plotly.Interactive version 4.0.1"
          },
          "execution_count": 1,
          "metadata": {}
        },
        {
          "output_type": "execute_result",
          "data": {
            "text/markdown": "Loading extensions from `XPlot.Plotly.Interactive.dll`"
          },
          "execution_count": 1,
          "metadata": {}
        },
        {
          "output_type": "execute_result",
          "data": {
            "text/markdown": "Configuring PowerShell Kernel for XPlot.Plotly integration."
          },
          "execution_count": 1,
          "metadata": {}
        },
        {
          "output_type": "execute_result",
          "data": {
            "text/markdown": "Installed support for XPlot.Plotly."
          },
          "execution_count": 1,
          "metadata": {}
        }
      ]
    },
    {
      "cell_type": "markdown",
      "metadata": {},
      "source": [
        "# Central Limit Theorem"
      ]
    },
    {
      "cell_type": "markdown",
      "metadata": {},
      "source": [
        "## Generate Data"
      ]
    },
    {
      "cell_type": "code",
      "execution_count": 1,
      "metadata": {
        "dotnet_interactive": {
          "language": "pwsh"
        }
      },
      "source": [
        "$data = for ($i = 1; $i -le 500; $i++) {\n",
        "    $s = 0\n",
        "    for ($j = 1; $j -le 100; $j++) {\n",
        "        $s += Get-Random -Minimum 0 -Maximum 2\n",
        "    }\n",
        "    $s\n",
        "}\n",
        "\n",
        "$data = $data | Sort-Object | Group-Object | Select-Object Count, Name"
      ],
      "outputs": []
    },
    {
      "cell_type": "markdown",
      "metadata": {},
      "source": [
        "## Histogram\n",
        ""
      ]
    },
    {
      "cell_type": "code",
      "execution_count": 1,
      "metadata": {
        "dotnet_interactive": {
          "language": "pwsh"
        }
      },
      "source": [
        "$clt = [Graph.Histogram]::new()\n",
        "$clt.name = \"CentralLimitTheorem\"\n",
        "$clt.x = $data.Name\n",
        "$clt.y = $data.count\n",
        "\n",
        "New-PlotlyChart -Trace $clt | Out-Display"
      ],
      "outputs": [
        {
          "output_type": "execute_result",
          "data": {
            "text/html": "<!DOCTYPE html>\r\n<div style=\"width: 900px; height: 500px;\" id=\"28fdeca5-3af6-429f-8434-a6e92244bc87\"></div><script type=\"text/javascript\">\r\n\nvar renderPlotly = function() {\n    var xplotRequire = require.config({context:'xplot-3.0.1',paths:{plotly:'https://cdn.plot.ly/plotly-1.49.2.min'}}) || require;\n    xplotRequire(['plotly'], function(Plotly) { \r\n\n            var data = [{\"type\":\"histogram\",\"x\":[\"34\",\"35\",\"38\",\"39\",\"40\",\"41\",\"42\",\"43\",\"44\",\"45\",\"46\",\"47\",\"48\",\"49\",\"50\",\"51\",\"52\",\"53\",\"54\",\"55\",\"56\",\"57\",\"58\",\"59\",\"60\",\"61\",\"62\",\"63\",\"64\",\"65\"],\"y\":30,\"name\":\"CentralLimitTheorem\"}];\n           var layout = {\"title\":\"\"};\n           Plotly.newPlot('28fdeca5-3af6-429f-8434-a6e92244bc87', data, layout);\n        \r\n});\n};\r\n// ensure `require` is available globally\r\nif ((typeof(require) !==  typeof(Function)) || (typeof(require.config) !== typeof(Function))) {\r\n    let require_script = document.createElement('script');\r\n    require_script.setAttribute('src', 'https://cdnjs.cloudflare.com/ajax/libs/require.js/2.3.6/require.min.js');\r\n    require_script.setAttribute('type', 'text/javascript');\r\n    \r\n    \r\n    require_script.onload = function() {\r\n        renderPlotly();\r\n    };\r\n\r\n    document.getElementsByTagName('head')[0].appendChild(require_script);\r\n}\r\nelse {\r\n    renderPlotly();\r\n}\r\n\r\n</script>\r\n"
          },
          "execution_count": 1,
          "metadata": {}
        }
      ]
    }
  ],
  "metadata": {
    "kernelspec": {
      "display_name": ".NET (C#)",
      "language": "C#",
      "name": ".net-csharp"
    },
    "language_info": {
      "file_extension": ".cs",
      "mimetype": "text/x-csharp",
      "name": "C#",
      "pygments_lexer": "csharp",
      "version": "8.0"
    }
  },
  "nbformat": 4,
  "nbformat_minor": 4
}