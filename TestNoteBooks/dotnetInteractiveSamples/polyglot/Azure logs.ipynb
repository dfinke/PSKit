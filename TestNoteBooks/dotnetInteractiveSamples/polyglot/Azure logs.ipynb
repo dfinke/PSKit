{
 "cells": [
  {
   "cell_type": "code",
   "execution_count": 1,
   "metadata": {},
   "outputs": [
    {
     "data": {
      "text/html": [
       "\r\n",
       "<div>\r\n",
       "    <div id='dotnet-interactive-this-cell-52275' style='display: none'>\r\n",
       "        The below script needs to be able to find the current output cell; this is an easy method to get it.\r\n",
       "    </div>\r\n",
       "    <script type='text/javascript'>\r\n",
       "// ensure `requirejs` is available globally\r\n",
       "if (typeof requirejs !== typeof Function || typeof requirejs.config !== typeof Function) {\r\n",
       "    let requirejs_script = document.createElement('script');\r\n",
       "    requirejs_script.setAttribute('src', 'https://cdnjs.cloudflare.com/ajax/libs/require.js/2.3.6/require.min.js');\r\n",
       "    requirejs_script.setAttribute('type', 'text/javascript');\r\n",
       "    requirejs_script.onload = function () {\r\n",
       "        loadDotnetInteractiveApi();\r\n",
       "    };\r\n",
       "\r\n",
       "    document.getElementsByTagName('head')[0].appendChild(requirejs_script);\r\n",
       "}\r\n",
       "else {\r\n",
       "    loadDotnetInteractiveApi();\r\n",
       "}\r\n",
       "\r\n",
       "async function probeAddresses(probingAddresses) {\r\n",
       "    function timeout(ms, promise) {\r\n",
       "        return new Promise(function (resolve, reject) {\r\n",
       "            setTimeout(function () {\r\n",
       "                reject(new Error('timeout'))\r\n",
       "            }, ms)\r\n",
       "            promise.then(resolve, reject)\r\n",
       "        })\r\n",
       "    }\r\n",
       "\r\n",
       "    if (Array.isArray(probingAddresses)) {\r\n",
       "        for (let i = 0; i < probingAddresses.length; i++) {\r\n",
       "\r\n",
       "            let rootUrl = probingAddresses[i];\r\n",
       "\r\n",
       "            if (!rootUrl.endsWith('/')) {\r\n",
       "                rootUrl = `${rootUrl}/`;\r\n",
       "            }\r\n",
       "\r\n",
       "            try {\r\n",
       "                let response = await timeout(1000, fetch(`${rootUrl}discovery`, {\r\n",
       "                    method: 'POST',\r\n",
       "                    timeout: 1000,\r\n",
       "                    headers: {\r\n",
       "                        'Content-Type': 'text/plain'\r\n",
       "                    },\r\n",
       "                    body: probingAddresses[i]\r\n",
       "                }));\r\n",
       "\r\n",
       "                if (response.status == 200) {\r\n",
       "                    return rootUrl;\r\n",
       "                }\r\n",
       "            }\r\n",
       "            catch (e) { }\r\n",
       "        }\r\n",
       "    }\r\n",
       "}\r\n",
       "\r\n",
       "function loadDotnetInteractiveApi() {\r\n",
       "    probeAddresses([\"http://192.168.0.6:52275/\", \"http://172.17.137.129:52275/\", \"http://127.0.0.1:52275/\"])\r\n",
       "        .then((root) => {\r\n",
       "            // use probing to find host url and api resources\r\n",
       "            // load interactive helpers and language services\r\n",
       "            let dotnet_require = requirejs.config({\r\n",
       "                context: '30888.52275',\r\n",
       "                paths: {\r\n",
       "                    'dotnet-interactive': `${root}resources`\r\n",
       "                }\r\n",
       "            });\r\n",
       "            if (!window.dotnet_require) {\r\n",
       "                window.dotnet_require = dotnet_require;\r\n",
       "            }\r\n",
       "        \r\n",
       "            dotnet_require([\r\n",
       "                    'dotnet-interactive/dotnet-interactive',\r\n",
       "                    'dotnet-interactive/lsp',\r\n",
       "                    'dotnet-interactive/editor-detection'\r\n",
       "                ],\r\n",
       "                function (dotnet, lsp, editor) {\r\n",
       "                    dotnet.init(window);\r\n",
       "                    \r\n",
       "                },\r\n",
       "                function (error) {\r\n",
       "                    console.log(error);\r\n",
       "                }\r\n",
       "            );\r\n",
       "        })\r\n",
       "        .catch(error => {console.log(error);});\r\n",
       "    }\r\n",
       "    </script>\r\n",
       "</div>"
      ]
     },
     "metadata": {},
     "output_type": "display_data"
    },
    {
     "name": "stdout",
     "output_type": "stream",
     "text": [
      "\n",
      "\u001b[95mUntrusted repository\u001b[0m\n",
      "You are installing the modules from an untrusted repository. If you trust this repository, change its InstallationPolicy value by running the Set-PSRepository cmdlet. Are you sure you want to install the modules from 'PSGallery'?\n",
      "\u001b[95m[Y] Yes  \u001b[0m\u001b[95m[A] Yes to All  \u001b[0m\u001b[93m[N] No  \u001b[0m\u001b[95m[L] No to All  \u001b[0m\u001b[95m[S] Suspend  \u001b[0m[?] Help(default is 'N')Select: a\n"
     ]
    },
    {
     "data": {
      "text/plain": []
     },
     "metadata": {},
     "output_type": "display_data"
    },
    {
     "name": "stdout",
     "output_type": "stream",
     "text": [
      "\u001b[91mInstall-Package: \u001b[0mC:\\Users\\finke\\.dotnet\\tools\\.store\\microsoft.dotnet-interactive\\1.0.120301\\microsoft.dotnet-interactive\\1.0.120301\\tools\\netcoreapp3.1\\any\\Modules\\PowerShellGet\\PSModule.psm1:9685\n",
      "\u001b[96mLine |\n",
      "\u001b[96m9685 | \u001b[0m … talledPackages = \u001b[96mPackageManagement\\Install-Package @PSBoundParameters\u001b[0m\n",
      "\u001b[96m     | \u001b[91m                    ~~~~~~~~~~~~~~~~~~~~~~~~~~~~~~~~~~~~~~~~~~~~~~~~~~~~\n",
      "\u001b[91m\u001b[96m     | \u001b[91mThe version '1.0.3' of the module 'Az.ApplicationInsights' being installed is not catalog\n",
      "\u001b[96m     | \u001b[91msigned. Ensure that the version '1.0.3' of the module 'Az.ApplicationInsights' has the catalog\n",
      "\u001b[96m     | \u001b[91mfile 'Az.ApplicationInsights.cat' and signed with the same publisher 'CN=Microsoft\n",
      "\u001b[96m     | \u001b[91mCorporation, O=Microsoft Corporation, L=Redmond, S=Washington, C=US' as the\n",
      "\u001b[96m     | \u001b[91mpreviously-installed module 'Az.ApplicationInsights' with version '1.1.0' under the directory\n",
      "\u001b[96m     | \u001b[91m'C:\\Users\\finke\\OneDrive\\Documents\\WindowsPowerShell\\Modules\\Az.ApplicationInsights\\1.1.0'. If\n",
      "\u001b[96m     | \u001b[91myou still want to install or update, use -SkipPublisherCheck parameter.\n",
      "\u001b[0m\n"
     ]
    }
   ],
   "source": [
    "Install-Module -Name Az.ApplicationInsights -RequiredVersion 1.0.3 -Scope CurrentUser "
   ]
  },
  {
   "cell_type": "code",
   "execution_count": 2,
   "metadata": {},
   "outputs": [
    {
     "name": "stdout",
     "output_type": "stream",
     "text": [
      "\n",
      "Name                     Version          DynamicOptions\n",
      "----                     -------          --------------\n",
      "NuGet                    3.0.0.1          Destination, ExcludeVersion, Scope, SkipDependencies, He…\n",
      "PowerShellGet            2.2.3.0          PackageManagementProvider, Type, Scope, AllowClobber, Sk…\n",
      "\n"
     ]
    }
   ],
   "source": [
    "Get-PackageProvider"
   ]
  },
  {
   "cell_type": "code",
   "execution_count": 3,
   "metadata": {},
   "outputs": [
    {
     "name": "stdout",
     "output_type": "stream",
     "text": [
      "\u001b[93mWARNING: To sign in, use a web browser to open the page https://microsoft.com/devicelogin and enter the code AUCC26UVF to authenticate.\u001b[0m\n",
      "\n",
      "Account            SubscriptionName TenantId                             Environment\n",
      "-------            ---------------- --------                             -----------\n",
      "finked@hotmail.com Start-Automating 58475834-3702-4a8b-966f-39caa3ebad39 AzureCloud\n",
      "\n"
     ]
    }
   ],
   "source": [
    "Connect-AzAccount"
   ]
  },
  {
   "cell_type": "code",
   "execution_count": 5,
   "metadata": {},
   "outputs": [
    {
     "name": "stdout",
     "output_type": "stream",
     "text": [
      "\n",
      "Name                                     Account        SubscriptionNa Environment    TenantId\n",
      "                                                        me\n",
      "----                                     -------        -------------- -----------    --------\n",
      "Start-Automating (9b5a0e7f-50d3-4f01-83… finked@hotmai… Start-Automat… AzureCloud     58475834-370…\n",
      "\n"
     ]
    }
   ],
   "source": [
    "Get-AzContext"
   ]
  },
  {
   "cell_type": "code",
   "execution_count": 6,
   "metadata": {},
   "outputs": [
    {
     "name": "stdout",
     "output_type": "stream",
     "text": [
      "\n",
      "Name                                     Account        SubscriptionNa Environment    TenantId\n",
      "                                                        me\n",
      "----                                     -------        -------------- -----------    --------\n",
      "Windows Azure MSDN - Visual Studio Ulti… finked@hotmai… Windows Azure… AzureCloud     3b8a5a65-6dc…\n",
      "\n"
     ]
    }
   ],
   "source": [
    "Set-AzContext -Subscription \"00a9decb-e45c-4ef1-839b-799c5d0b21f8\""
   ]
  },
  {
   "cell_type": "code",
   "execution_count": 7,
   "metadata": {},
   "outputs": [
    {
     "name": "stdout",
     "output_type": "stream",
     "text": [
      "\n",
      "\u001b[95mUntrusted repository\u001b[0m\n",
      "You are installing the modules from an untrusted repository. If you trust this repository, change its InstallationPolicy value by running the Set-PSRepository cmdlet. Are you sure you want to install the modules from 'PSGallery'?\n",
      "\u001b[95m[Y] Yes  \u001b[0m\u001b[95m[A] Yes to All  \u001b[0m\u001b[93m[N] No  \u001b[0m\u001b[95m[L] No to All  \u001b[0m\u001b[95m[S] Suspend  \u001b[0m[?] Help(default is 'N')Select: a\n"
     ]
    }
   ],
   "source": [
    "Install-Module -Name Az.Monitor -Scope CurrentUser"
   ]
  },
  {
   "cell_type": "code",
   "execution_count": 9,
   "metadata": {},
   "outputs": [
    {
     "name": "stdout",
     "output_type": "stream",
     "text": [
      "\u001b[91mWrite-Error: \u001b[91mThis module requires Az.Accounts version 1.8.0. An earlier version of Az.Accounts is imported in the current PowerShell session. Please open a new session before importing this module. This error could indicate that multiple incompatible versions of the Azure PowerShell cmdlets are installed on your system. Please see https://aka.ms/azps-version-error for troubleshooting information.\u001b[0m\n",
      "\u001b[91mImport-Module: \u001b[91mThe module to process 'Az.Monitor.psm1', listed in field 'ModuleToProcess/RootModule' of module manifest 'C:\\Users\\finke\\OneDrive\\Documents\\WindowsPowerShell\\Modules\\Az.Monitor\\2.0.0\\Az.Monitor.psd1' was not processed because no valid module was found in any module directory.\u001b[0m\n",
      "\u001b[91mGet-AzLog: \n",
      "\u001b[96mLine |\n",
      "\u001b[96m   2 | \u001b[0m $logs = \u001b[96mGet-AzLog\u001b[0m -MaxRecord 200 | Select-Object -ExcludeProperty Aut …\n",
      "\u001b[96m     | \u001b[91m         ~~~~~~~~~\n",
      "\u001b[91m\u001b[96m     | \u001b[91mThe 'Get-AzLog' command was found in the module 'Az.Monitor', but the module could not be loaded. For more information, run 'Import-Module Az.Monitor'.\u001b[0m\n"
     ]
    },
    {
     "data": {
      "application/json": null
     },
     "metadata": {},
     "output_type": "display_data"
    }
   ],
   "source": [
    "Import-Module Az.Monitor\n",
    "$logs = Get-AzLog -MaxRecord 200 | Select-Object -ExcludeProperty Authorization,Claims,EventTimestamp,HttpRequest,Level,Properties,SubmissionTimestamp\n",
    "$logJson = ConvertTo-Json $logs -Depth 3\n",
    "$logJson | Out-Display -MimeType \"application/json\""
   ]
  },
  {
   "cell_type": "code",
   "execution_count": null,
   "metadata": {},
   "outputs": [],
   "source": [
    "$entryByResourceGroup = [Graph.Histogram]::new()\n",
    "$entryByResourceGroup.name = \"By ResourceGroup\"\n",
    "$entryByResourceGroup.x =  $logs.ResourceGroupName\n",
    "\n",
    "$entryByResourceProvider = [Graph.Histogram]::new()\n",
    "$entryByResourceProvider.name = \"By ResourceProvider\"\n",
    "$entryByResourceProvider.x =  $logs.ResourceProviderName.value\n",
    "\n",
    "$entryByStatus = [Graph.Histogram]::new()\n",
    "$entryByStatus.name = \"By Status\"\n",
    "$entryByStatus.x =  $logs.Status.value\n",
    "\n",
    "\n",
    "New-PlotlyChart -Trace @($entryByResourceGroup,$entryByResourceProvider,$entryByStatus) -Title \"Events\" | Out-Display"
   ]
  },
  {
   "cell_type": "code",
   "execution_count": null,
   "metadata": {},
   "outputs": [],
   "source": [
    "$entryByResourceProviderSuccess = [Graph.Histogram]::new()\n",
    "$entryByResourceProviderSuccess.name = \"Success By ResourceProvider\"\n",
    "$entryByResourceProviderSuccess.x = ($logs | where-object { $_.Status.value -eq \"Succeeded\"}).ResourceProviderName.value\n",
    "\n",
    "$entryByResourceProviderFailure = [Graph.Histogram]::new()\n",
    "$entryByResourceProviderFailure.name = \"Failure By ResourceProvider\"\n",
    "$entryByResourceProviderFailure.x =  ($logs | where-object { $_.Status.value -ne \"Succeeded\"}).ResourceProviderName.value\n",
    "\n",
    "$layout = [Layout]::new()\n",
    "$layout.barmode = \"stack\"\n",
    "New-PlotlyChart -Layout $layout -Trace @($entryByResourceProviderSuccess, $entryByResourceProviderFailure) -Title \"Events outcome by Resource Provider\" | Out-Display"
   ]
  },
  {
   "cell_type": "code",
   "execution_count": null,
   "metadata": {},
   "outputs": [],
   "source": []
  }
 ],
 "metadata": {
  "kernelspec": {
   "display_name": ".NET (PowerShell)",
   "language": "PowerShell",
   "name": ".net-powershell"
  },
  "language_info": {
   "file_extension": ".ps1",
   "mimetype": "text/x-powershell",
   "name": "PowerShell",
   "pygments_lexer": "powershell",
   "version": "7.0"
  }
 },
 "nbformat": 4,
 "nbformat_minor": 4
}
