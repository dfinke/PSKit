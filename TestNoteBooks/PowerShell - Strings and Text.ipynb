{
 "cells": [
  {
   "cell_type": "code",
   "execution_count": 6,
   "metadata": {},
   "outputs": [
    {
     "name": "stdout",
     "output_type": "stream",
     "text": [
      "asdf\n",
      "fjdk\n",
      "afed\n",
      "fjek\n",
      "asdf\n",
      "foo\n"
     ]
    }
   ],
   "source": [
    "$line = 'asdf fjdk; afed, fjek,asdf,      foo'\n",
    "$line -split '[;,\\s]\\s*'"
   ]
  },
  {
   "cell_type": "code",
   "execution_count": 12,
   "metadata": {},
   "outputs": [],
   "source": [
    "$fields = $line -split '(;|,|\\s)\\s*'"
   ]
  },
  {
   "cell_type": "code",
   "execution_count": 20,
   "metadata": {},
   "outputs": [
    {
     "name": "stdout",
     "output_type": "stream",
     "text": [
      " ;,,,\r\n"
     ]
    }
   ],
   "source": [
    "#$fields\n",
    "$delimiters = -join (0..($fields.count-1) |? {$_ % 2 -ne 0} | % {$fields[$_]})\n",
    "\n",
    "$delimiters"
   ]
  },
  {
   "cell_type": "code",
   "execution_count": 21,
   "metadata": {},
   "outputs": [
    {
     "name": "stdout",
     "output_type": "stream",
     "text": [
      "True\n",
      "False\n",
      "True\n"
     ]
    }
   ],
   "source": [
    "$filename = 'spam.txt'\n",
    "$filename.endswith('.txt')\n",
    "\n",
    "$filename.startswith('file:')\n",
    "\n",
    "$url = 'http://www.python.org'\n",
    "$url.startswith('http:')"
   ]
  }
 ],
 "metadata": {
  "kernelspec": {
   "display_name": ".NET (PowerShell)",
   "language": "PowerShell",
   "name": ".net-powershell"
  },
  "language_info": {
   "file_extension": ".ps1",
   "mimetype": "text/x-powershell",
   "name": "PowerShell",
   "pygments_lexer": "powershell",
   "version": "7.0"
  }
 },
 "nbformat": 4,
 "nbformat_minor": 4
}
