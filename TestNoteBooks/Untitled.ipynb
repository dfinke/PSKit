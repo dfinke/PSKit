{
 "cells": [
  {
   "cell_type": "code",
   "execution_count": 1,
   "metadata": {},
   "outputs": [
    {
     "name": "stdout",
     "output_type": "stream",
     "text": [
      "Name: \n",
      "Type: DiGraph\n",
      "Number of nodes: 2\n",
      "Number of edges: 1\n",
      "Average in degree:   0.5000\n",
      "Average out degree:   0.5000\n",
      "Nodes: ['X', 'Y']\n",
      "Edges: [('X', 'Y')]\n",
      "\n"
     ]
    },
    {
     "ename": "AttributeError",
     "evalue": "'DiGraph' object has no attribute 'node'",
     "output_type": "error",
     "traceback": [
      "\u001b[1;31m---------------------------------------------------------------------------\u001b[0m",
      "\u001b[1;31mAttributeError\u001b[0m                            Traceback (most recent call last)",
      "\u001b[1;32m<ipython-input-1-0c937dc2cd2e>\u001b[0m in \u001b[0;36m<module>\u001b[1;34m\u001b[0m\n\u001b[0;32m     21\u001b[0m \u001b[1;31m# Get node properties\u001b[0m\u001b[1;33m\u001b[0m\u001b[1;33m\u001b[0m\u001b[1;33m\u001b[0m\u001b[0m\n\u001b[0;32m     22\u001b[0m \u001b[1;33m\u001b[0m\u001b[0m\n\u001b[1;32m---> 23\u001b[1;33m \u001b[0mprint\u001b[0m\u001b[1;33m(\u001b[0m\u001b[1;34m\"X props:\"\u001b[0m\u001b[1;33m,\u001b[0m \u001b[0mg\u001b[0m\u001b[1;33m.\u001b[0m\u001b[0mnode\u001b[0m\u001b[1;33m[\u001b[0m\u001b[1;34m'X'\u001b[0m\u001b[1;33m]\u001b[0m\u001b[1;33m)\u001b[0m\u001b[1;33m\u001b[0m\u001b[1;33m\u001b[0m\u001b[0m\n\u001b[0m\u001b[0;32m     24\u001b[0m \u001b[0mprint\u001b[0m\u001b[1;33m(\u001b[0m\u001b[1;34m\"Y props:\"\u001b[0m\u001b[1;33m,\u001b[0m \u001b[0mg\u001b[0m\u001b[1;33m.\u001b[0m\u001b[0mnode\u001b[0m\u001b[1;33m[\u001b[0m\u001b[1;34m'Y'\u001b[0m\u001b[1;33m]\u001b[0m\u001b[1;33m)\u001b[0m\u001b[1;33m\u001b[0m\u001b[1;33m\u001b[0m\u001b[0m\n\u001b[0;32m     25\u001b[0m \u001b[0mprint\u001b[0m\u001b[1;33m(\u001b[0m\u001b[1;33m)\u001b[0m\u001b[1;33m\u001b[0m\u001b[1;33m\u001b[0m\u001b[0m\n",
      "\u001b[1;31mAttributeError\u001b[0m: 'DiGraph' object has no attribute 'node'"
     ]
    }
   ],
   "source": [
    "import networkx as nx # pip install networkx\n",
    "\n",
    "# Create a directed graph\n",
    "\n",
    "g = nx.DiGraph()\n",
    "\n",
    "# Add an edge to the directed graph from X to Y\n",
    "\n",
    "g.add_edge('X', 'Y')\n",
    "\n",
    "# Print some statistics about the graph\n",
    "\n",
    "print(nx.info(g))\n",
    "\n",
    "# Get the nodes and edges from the graph\n",
    "\n",
    "print(\"Nodes:\", g.nodes())\n",
    "print(\"Edges:\", g.edges())\n",
    "print()\n",
    "\n",
    "# Get node properties\n",
    "\n",
    "print(\"X props:\", g.node['X'])\n",
    "print(\"Y props:\", g.node['Y'])\n",
    "print()\n",
    "\n",
    "# Get edge properties\n",
    "\n",
    "print(\"X=>Y props:\", g['X']['Y'])\n",
    "print()\n",
    "\n",
    "# Update a node property\n",
    "\n",
    "g.node['X'].update({'prop1' : 'value1'})\n",
    "print(\"X props:\", g.node['X'])\n",
    "print()\n",
    "\n",
    "# Update an edge property\n",
    "\n",
    "g['X']['Y'].update({'label' : 'label1'})\n",
    "print(\"X=>Y props:\", g['X']['Y'])\n"
   ]
  }
 ],
 "metadata": {
  "kernelspec": {
   "display_name": "Python 3",
   "language": "python",
   "name": "python3"
  },
  "language_info": {
   "codemirror_mode": {
    "name": "ipython",
    "version": 3
   },
   "file_extension": ".py",
   "mimetype": "text/x-python",
   "name": "python",
   "nbconvert_exporter": "python",
   "pygments_lexer": "ipython3",
   "version": "3.7.6"
  }
 },
 "nbformat": 4,
 "nbformat_minor": 4
}
