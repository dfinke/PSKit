{
  "cells": [
    {
      "cell_type": "code",
      "execution_count": null,
      "metadata": {},
      "outputs": [
        {
          "data": {
            "text/plain": "Installed package XPlot.Plotly.Interactive version 4.0.1"
          },
          "output_type": "unknown"
        },
        {
          "data": {
            "text/markdown": "Loading extensions from `XPlot.Plotly.Interactive.dll`"
          },
          "output_type": "unknown"
        },
        {
          "data": {
            "text/markdown": "Configuring PowerShell Kernel for XPlot.Plotly integration."
          },
          "output_type": "unknown"
        },
        {
          "data": {
            "text/markdown": "Installed support for XPlot.Plotly."
          },
          "output_type": "unknown"
        }
      ],
      "source": [
        "#!csharp\r\n",
        "#r \"nuget: XPlot.Plotly.Interactive\""
      ]
    },
    {
      "cell_type": "code",
      "execution_count": null,
      "metadata": {},
      "outputs": [],
      "source": [
        "$count = 20\n",
        "[datetime[]] $dates = 1..$count | ForEach-Object { (Get-Date).AddMinutes((Get-Random -Minimum $_ -Maximum ($_+30))) }"
      ]
    },
    {
      "cell_type": "code",
      "execution_count": null,
      "metadata": {},
      "outputs": [],
      "source": [
        "$openByTime = [Graph.Histogram]::new()\n",
        "$openByTime.name = \"Open\"\n",
        "$openByTime.x = $dates\n",
        "$openByTime.y = [double[]](Get-Random -Count $count -Minimum 0 -Maximum 200)\n",
        "\n",
        "$closeByTime = [Graph.Histogram]::new()\n",
        "$closeByTime.name = \"Close\"\n",
        "$closeByTime.x = $dates\n",
        "$closeByTime.y = [double[]](Get-Random -Count $count -Minimum 0 -Maximum 200)\n",
        "\n",
        "New-PlotlyChart -Trace @($openByTime, $closeByTime) | Out-Display"
      ]
    },
    {
      "cell_type": "markdown",
      "metadata": {},
      "source": [
        "# Central Limit Theorem"
      ]
    },
    {
      "cell_type": "code",
      "execution_count": null,
      "metadata": {},
      "outputs": [
        {
          "data": {
            "text/plain": "\r\n"
          },
          "output_type": "unknown"
        },
        {
          "data": {
            "text/html": "<!DOCTYPE html>\r\n<div style=\"width: 900px; height: 500px;\" id=\"a258c2b2-8e3c-456d-8b40-07153c18e609\"></div><script type=\"text/javascript\">\r\n\nvar renderPlotly = function() {\n    var xplotRequire = require.config({context:'xplot-3.0.1',paths:{plotly:'https://cdn.plot.ly/plotly-1.49.2.min'}}) || require;\n    xplotRequire(['plotly'], function(Plotly) { \r\n\n            var data = [{\"type\":\"histogram\",\"x\":[\"34\",\"38\",\"39\",\"40\",\"41\",\"42\",\"43\",\"44\",\"45\",\"46\",\"47\",\"48\",\"49\",\"50\",\"51\",\"52\",\"53\",\"54\",\"55\",\"56\",\"57\",\"58\",\"59\",\"60\",\"61\",\"62\",\"63\"],\"y\":27,\"name\":\"CentralLimitTheorem\"}];\n           var layout = {\"title\":\"\"};\n           Plotly.newPlot('a258c2b2-8e3c-456d-8b40-07153c18e609', data, layout);\n        \r\n});\n};\r\n// ensure `require` is available globally\r\nif ((typeof(require) !==  typeof(Function)) || (typeof(require.config) !== typeof(Function))) {\r\n    let require_script = document.createElement('script');\r\n    require_script.setAttribute('src', 'https://cdnjs.cloudflare.com/ajax/libs/require.js/2.3.6/require.min.js');\r\n    require_script.setAttribute('type', 'text/javascript');\r\n    \r\n    \r\n    require_script.onload = function() {\r\n        renderPlotly();\r\n    };\r\n\r\n    document.getElementsByTagName('head')[0].appendChild(require_script);\r\n}\r\nelse {\r\n    renderPlotly();\r\n}\r\n\r\n</script>\r\n"
          },
          "output_type": "unknown"
        },
        {
          "data": {
            "text/plain": "Count Name\r\n"
          },
          "output_type": "unknown"
        },
        {
          "data": {
            "text/plain": "----- ----\r\n"
          },
          "output_type": "unknown"
        },
        {
          "data": {
            "text/plain": "    1 34\r\n"
          },
          "output_type": "unknown"
        },
        {
          "data": {
            "text/plain": "    3 38\r\n"
          },
          "output_type": "unknown"
        },
        {
          "data": {
            "text/plain": "    5 39\r\n"
          },
          "output_type": "unknown"
        },
        {
          "data": {
            "text/plain": "    4 40\r\n"
          },
          "output_type": "unknown"
        },
        {
          "data": {
            "text/plain": "    7 41\r\n"
          },
          "output_type": "unknown"
        },
        {
          "data": {
            "text/plain": "   14 42\r\n"
          },
          "output_type": "unknown"
        },
        {
          "data": {
            "text/plain": "   18 43\r\n"
          },
          "output_type": "unknown"
        },
        {
          "data": {
            "text/plain": "   18 44\r\n"
          },
          "output_type": "unknown"
        },
        {
          "data": {
            "text/plain": "   20 45\r\n"
          },
          "output_type": "unknown"
        },
        {
          "data": {
            "text/plain": "   33 46\r\n"
          },
          "output_type": "unknown"
        },
        {
          "data": {
            "text/plain": "   22 47\r\n"
          },
          "output_type": "unknown"
        },
        {
          "data": {
            "text/plain": "   38 48\r\n"
          },
          "output_type": "unknown"
        },
        {
          "data": {
            "text/plain": "   40 49\r\n"
          },
          "output_type": "unknown"
        },
        {
          "data": {
            "text/plain": "   44 50\r\n"
          },
          "output_type": "unknown"
        },
        {
          "data": {
            "text/plain": "   34 51\r\n"
          },
          "output_type": "unknown"
        },
        {
          "data": {
            "text/plain": "   50 52\r\n"
          },
          "output_type": "unknown"
        },
        {
          "data": {
            "text/plain": "   30 53\r\n"
          },
          "output_type": "unknown"
        },
        {
          "data": {
            "text/plain": "   28 54\r\n"
          },
          "output_type": "unknown"
        },
        {
          "data": {
            "text/plain": "   23 55\r\n"
          },
          "output_type": "unknown"
        },
        {
          "data": {
            "text/plain": "   14 56\r\n"
          },
          "output_type": "unknown"
        },
        {
          "data": {
            "text/plain": "   13 57\r\n"
          },
          "output_type": "unknown"
        },
        {
          "data": {
            "text/plain": "   19 58\r\n"
          },
          "output_type": "unknown"
        },
        {
          "data": {
            "text/plain": "    8 59\r\n"
          },
          "output_type": "unknown"
        },
        {
          "data": {
            "text/plain": "    4 60\r\n"
          },
          "output_type": "unknown"
        },
        {
          "data": {
            "text/plain": "    4 61\r\n"
          },
          "output_type": "unknown"
        },
        {
          "data": {
            "text/plain": "    5 62\r\n"
          },
          "output_type": "unknown"
        },
        {
          "data": {
            "text/plain": "    1 63\r\n"
          },
          "output_type": "unknown"
        },
        {
          "data": {
            "text/plain": "\r\n"
          },
          "output_type": "unknown"
        }
      ],
      "source": [
        "$data = for ($i = 1; $i -le 500; $i++) {\r\n",
        "    $s = 0\r\n",
        "    for ($j = 1; $j -le 100; $j++) {\r\n",
        "        $s += Get-Random -Minimum 0 -Maximum 2\r\n",
        "    }\r\n",
        "    $s\r\n",
        "}\r\n",
        "\r\n",
        "$data = $data | Sort-Object | Group-Object | Select-Object Count, Name\r\n",
        "\r\n",
        "$clt = [Graph.Histogram]::new()\r\n",
        "$clt.name = \"CentralLimitTheorem\"\r\n",
        "$clt.x = $data.Name\r\n",
        "$clt.y = $data.count\r\n",
        "\r\n",
        "$data \r\n",
        "New-PlotlyChart -Trace $clt | Out-Display"
      ]
    }
  ],
  "metadata": {
    "kernelspec": {
      "display_name": ".NET (C#)",
      "language": "C#",
      "name": ".net-csharp"
    },
    "language_info": {
      "file_extension": ".cs",
      "mimetype": "text/x-csharp",
      "name": "csharp",
      "pygments_lexer": "csharp",
      "version": "8.0"
    }
  },
  "nbformat": 4,
  "nbformat_minor": 4
}