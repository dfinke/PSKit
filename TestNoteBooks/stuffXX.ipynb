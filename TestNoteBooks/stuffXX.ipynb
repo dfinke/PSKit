{
 "cells": [
  {
   "cell_type": "code",
   "execution_count": null,
   "metadata": {
    "dotnet_interactive": {
     "language": "pwsh"
    }
   },
   "outputs": [
    {
     "data": {
      "text/markdown": "|Status|Name|DisplayName|\r\n|---|---|---|\r\n|Running|AarSvc_99d02|Agent Activation Runtime_99d02|\n |Running|AdobeARMservice|Adobe Acrobat Update Service|\n |Stopped|AJRouter|AllJoyn Router Service|\n"
     },
     "output_type": "unknown"
    }
   ],
   "source": [
    "ipmo PSKit \r\n",
    "\r\n",
    "$result = Get-Service | Select-Object -First 3 Status, Name, DisplayName \r\n",
    "\r\n",
    "$result | ConvertTo-MarkdownTable"
   ]
  },
  {
   "cell_type": "code",
   "execution_count": null,
   "metadata": {
    "dotnet_interactive": {
     "language": "pwsh"
    }
   },
   "outputs": [
    {
     "data": {
      "text/plain": "\r\n"
     },
     "output_type": "unknown"
    },
    {
     "data": {
      "text/plain": "IsPublic IsSerial Name                                     BaseType\r\n"
     },
     "output_type": "unknown"
    },
    {
     "data": {
      "text/plain": "-------- -------- ----                                     --------\r\n"
     },
     "output_type": "unknown"
    },
    {
     "data": {
      "text/plain": "True     True     Object[]                                 System.Array\r\n"
     },
     "output_type": "unknown"
    },
    {
     "data": {
      "text/plain": "\r\n"
     },
     "output_type": "unknown"
    }
   ],
   "source": [
    "$result.GetType()"
   ]
  },
  {
   "cell_type": "code",
   "execution_count": null,
   "metadata": {
    "dotnet_interactive": {
     "language": "csharp"
    }
   },
   "outputs": [
    {
     "data": {
      "application/x.notebook.error-traceback": {
       "ename": "Error",
       "evalue": "(1,1): error CS0103: The name 'Formatter' does not exist in the current context",
       "traceback": []
      }
     },
     "output_type": "unknown"
    }
   ],
   "source": [
    "Formatter.SetPreferredMimeTypeFor(typeof(System.Guid), \"text/plain\");"
   ]
  },
  {
   "cell_type": "markdown",
   "metadata": {},
   "source": [
    "---\r\n",
    "**_See Also_**\r\n",
    "\r\n",
    "* [Pivot](pivot.ipynb)\r\n",
    "* [Parameters](.\\parameters.ipynb)\r\n"
   ]
  }
 ],
 "metadata": {
  "kernelspec": {
   "display_name": ".NET (C#)",
   "language": "C#",
   "name": ".net-csharp"
  },
  "language_info": {
   "file_extension": ".cs",
   "mimetype": "text/x-csharp",
   "name": "C#",
   "pygments_lexer": "csharp",
   "version": "9.0"
  },
  "orig_nbformat": 2
 },
 "nbformat": 4,
 "nbformat_minor": 2
}