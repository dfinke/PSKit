{
  "cells": [
    {
      "cell_type": "code",
      "execution_count": 1,
      "metadata": {
        "dotnet_interactive": {
          "language": "csharp"
        }
      },
      "source": [
        "Console.WriteLine(\"Hello from C#\");"
      ],
      "outputs": [
        {
          "output_type": "execute_result",
          "data": {
            "text/plain": "Hello from C#\r\n"
          },
          "execution_count": 1,
          "metadata": {}
        }
      ]
    },
    {
      "cell_type": "code",
      "execution_count": 1,
      "metadata": {
        "dotnet_interactive": {
          "language": "fsharp"
        }
      },
      "source": [
        "\"Hello from F#\" |> Console.WriteLine"
      ],
      "outputs": [
        {
          "output_type": "execute_result",
          "data": {
            "text/plain": "Hello from F#\r\n"
          },
          "execution_count": 1,
          "metadata": {}
        }
      ]
    },
    {
      "cell_type": "code",
      "execution_count": 1,
      "metadata": {
        "dotnet_interactive": {
          "language": "pwsh"
        }
      },
      "source": [
        "\"Hello from PowerShell\""
      ],
      "outputs": [
        {
          "output_type": "execute_result",
          "data": {
            "text/plain": "Hello from PowerShell\r\n"
          },
          "execution_count": 1,
          "metadata": {}
        }
      ]
    },
    {
      "cell_type": "code",
      "execution_count": 1,
      "metadata": {
        "dotnet_interactive": {
          "language": "sql"
        }
      },
      "source": [
        "SELECT * FROM table"
      ],
      "outputs": [
        {
          "output_type": "execute_result",
          "data": {
            "text/html": "\r\n<p>A SQL connection has not been established.</p>\r\n<p>To connect to a database, first add the SQL extension package by running the following in a C# cell:</p>\r\n<code>\r\n    <pre>\r\n    #r \"nuget:Microsoft.DotNet.Interactive.SqlServer,*-*\"\r\n    </pre>\r\n</code>\r\nNow, you can connect to a Microsoft SQL Server database by running the following in a C# cell:\r\n<code>\r\n    <pre>\r\n    #!connect mssql --kernel-name mydatabase \"Persist Security Info=False; Integrated Security=true; Initial Catalog=MyDatabase; Server=localhost\"\r\n    </pre>\r\n</code>\r\n<p>Once a connection is established, you can send SQL statements by prefixing them with the magic command for your connection.</p>\r\n<code>\r\n    <pre>\r\n    #!sql-mydatabase\r\n    SELECT * FROM MyDatabase.MyTable\r\n    </pre>\r\n</code>\r\n"
          },
          "execution_count": 1,
          "metadata": {}
        }
      ]
    },
    {
      "cell_type": "code",
      "execution_count": 1,
      "metadata": {
        "dotnet_interactive": {
          "language": "csharp"
        }
      },
      "source": [
        "Console.WriteLine(\"Hello again from C#\");"
      ],
      "outputs": [
        {
          "output_type": "execute_result",
          "data": {
            "text/plain": "Hello again from C#\r\n"
          },
          "execution_count": 1,
          "metadata": {}
        }
      ]
    }
  ],
  "metadata": {
    "kernelspec": {
      "display_name": ".NET (C#)",
      "language": "C#",
      "name": ".net-csharp"
    },
    "language_info": {
      "file_extension": ".cs",
      "mimetype": "text/x-csharp",
      "name": "C#",
      "pygments_lexer": "csharp",
      "version": "8.0"
    }
  },
  "nbformat": 4,
  "nbformat_minor": 4
}