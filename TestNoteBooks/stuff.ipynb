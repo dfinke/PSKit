{
  "cells": [
    {
      "cell_type": "code",
      "execution_count": 1,
      "metadata": {
        "dotnet_interactive": {
          "language": "csharp"
        }
      },
      "source": [
        "using Microsoft.DotNet.Interactive;\n",
        "using Microsoft.DotNet.Interactive.Commands;\n",
        "\n",
        "// var command = new SubmitCode(\"console.log(\\\"hello from JavaScript\\\")\", targetKernelName:\"javascript\");\n",
        "// var command = new SubmitCode(\"'hello from PowerShell'\", targetKernelName:\"powershell\");\n",
        "var command = new SubmitCode(\"1..3\", targetKernelName:\"powershell\");\n",
        "var result = await Kernel.Root.SendAsync(command);\n",
        "\n",
        "result\n",
        ""
      ],
      "outputs": []
    },
    {
      "cell_type": "code",
      "execution_count": 1,
      "metadata": {
        "dotnet_interactive": {
          "language": "pwsh"
        }
      },
      "source": [
        "using namespace Microsoft.DotNet.Interactive\n",
        "using namespace Microsoft.DotNet.Interactive.Commands\n",
        "\n",
        "$command = New-Object SubmitCode('\"Hello From CSharp\"','csharp')\n",
        "\n",
        "\n",
        "# $command | gm\n",
        "$command.InvokeAsync([Kernel]::Root)"
      ],
      "outputs": [
        {
          "output_type": "execute_result",
          "data": {
            "text/plain": "\u001B[91mMethodException: \r\n"
          },
          "execution_count": 1,
          "metadata": {}
        },
        {
          "output_type": "execute_result",
          "data": {
            "text/plain": "\u001B[96mLine |\r\n"
          },
          "execution_count": 1,
          "metadata": {}
        },
        {
          "output_type": "execute_result",
          "data": {
            "text/plain": "\u001B[96m   8 | \u001B[0m \u001B[96m$command.InvokeAsync([Kernel]::Root)\u001B[0m\r\n"
          },
          "execution_count": 1,
          "metadata": {}
        },
        {
          "output_type": "execute_result",
          "data": {
            "text/plain": "\u001B[96m     | \u001B[91m ~~~~~~~~~~~~~~~~~~~~~~~~~~~~~~~~~~~~\r\n"
          },
          "execution_count": 1,
          "metadata": {}
        },
        {
          "output_type": "execute_result",
          "data": {
            "text/plain": "\u001B[91m\u001B[96m     | \u001B[91mCannot convert argument \"context\", with value: \"Microsoft.DotNet.Interactive.CompositeKernel\", for \"InvokeAsync\" to type \"Microsoft.DotNet.Interactive.KernelInvocationContext\": \"Cannot convert the \"Microsoft.DotNet.Interactive.CompositeKernel\" value of type \"Microsoft.DotNet.Interactive.CompositeKernel\" to type \"Microsoft.DotNet.Interactive.KernelInvocationContext\".\"\u001B[0m\r\n"
          },
          "execution_count": 1,
          "metadata": {}
        }
      ]
    }
  ],
  "metadata": {
    "kernelspec": {
      "display_name": ".NET (C#)",
      "language": "C#",
      "name": ".net-csharp"
    },
    "language_info": {
      "file_extension": ".cs",
      "mimetype": "text/x-csharp",
      "name": "C#",
      "pygments_lexer": "csharp",
      "version": "8.0"
    }
  },
  "nbformat": 4,
  "nbformat_minor": 4
}