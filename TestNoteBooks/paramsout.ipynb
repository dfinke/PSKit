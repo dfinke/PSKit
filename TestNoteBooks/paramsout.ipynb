{
  "cells": [
    {
      "cell_type": "code",
      "execution_count": 0,
      "metadata": {
        "tags": [
          "injected-parameters"
        ]
      },
      "outputs": [],
      "source": [
        "# injected parameters        \r",
        "$payload = @'\r",
        "{\r",
        "  \"alpha\": 5\r",
        "}\r",
        "'@ | ConvertFrom-Json\r",
        "\r",
        "$names = $payload.psobject.Properties.name\r",
        "$names | foreach-object { Set-Variable -Name $_ -Value $payload.$_ }\r",
        "\r",
        "Remove-Variable payload -ErrorAction SilentlyContinue\r",
        "Remove-Variable names -ErrorAction SilentlyContinue"
      ]
    },
    {
      "cell_type": "code",
      "execution_count": 1,
      "metadata": {
        "dotnet_interactive": {
          "language": "pwsh"
        }
      },
      "source": [
        "if(!$alpha) {$alpha=1.2} else {$alpha=$alpha}\n",
        "if(!$ratio) {$ratio=3.7} else {$ratio=$ratio}\n",
        "if(!$a) {$a=1} else {$a=$a}"
      ],
      "outputs": []
    },
    {
      "cell_type": "code",
      "execution_count": 1,
      "metadata": {
        "dotnet_interactive": {
          "language": "pwsh"
        }
      },
      "source": [
        "\"alpha = {0}, ratio = {1}, and alpha * ratio = {2}\" -f $alpha, $ratio, ($alpha * $ratio)"
      ],
      "outputs": [
        {
          "name": "stdout",
          "text": [
            "alpha = 5, ratio = 3.7, and alpha * ratio = 18.5\r\n"
          ],
          "output_type": "stream"
        }
      ]
    },
    {
      "cell_type": "code",
      "execution_count": 1,
      "metadata": {
        "dotnet_interactive": {
          "language": "pwsh"
        }
      },
      "source": [
        "$twice = $a * 2"
      ],
      "outputs": []
    },
    {
      "cell_type": "code",
      "execution_count": 1,
      "metadata": {
        "dotnet_interactive": {
          "language": "pwsh"
        }
      },
      "source": [
        "\"a = \" + $a + \" and twice = \" + $twice"
      ],
      "outputs": [
        {
          "name": "stdout",
          "text": [
            "a = 1 and twice = 2\r\n"
          ],
          "output_type": "stream"
        }
      ]
    }
  ],
  "metadata": {
    "kernelspec": {
      "display_name": ".NET (C#)",
      "language": "C#",
      "name": ".net-csharp"
    },
    "language_info": {
      "file_extension": ".cs",
      "mimetype": "text/x-csharp",
      "name": "C#",
      "pygments_lexer": "csharp",
      "version": "8.0"
    }
  },
  "nbformat": 4,
  "nbformat_minor": 4
}
