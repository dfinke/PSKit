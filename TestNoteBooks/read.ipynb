﻿{
    "metadata": {
        "kernelspec": {
            "name": "powershell",
            "display_name": "PowerShell"
        },
        "language_info": {
            "name": "powershell",
            "codemirror_mode": "shell",
            "mimetype": "text/x-sh",
            "file_extension": ".ps1"
        }
    },
    "nbformat_minor": 2,
    "nbformat": 4,
    "cells": [
        {
    "cell_type":  "code",
    "source":  [
                   "function doRead {"
               ],
    "metadata":  {
                     "azdata_cell_guid":  "719db034-5e93-479b-8980-7e11f1ea8693"
                 },
    "outputs":  [
                    {
                        "name":  "stdout",
                        "output_type":  "stream",
                        "text":  ""
                    }
                ]
},{
    "cell_type":  "code",
    "source":  [
                   "    param("
               ],
    "metadata":  {
                     "azdata_cell_guid":  "cb8635b3-fa90-4db1-8c0b-e0f83c28daaf"
                 },
    "outputs":  [
                    {
                        "name":  "stdout",
                        "output_type":  "stream",
                        "text":  ""
                    }
                ]
},{
    "cell_type":  "code",
    "source":  [
                   "        $ipynbFileName,"
               ],
    "metadata":  {
                     "azdata_cell_guid":  "1d0a3e21-615b-44fe-bb0e-28f0ad36fa63"
                 },
    "outputs":  [
                    {
                        "name":  "stdout",
                        "output_type":  "stream",
                        "text":  ""
                    }
                ]
},{
    "cell_type":  "code",
    "source":  [
                   "        [Switch]$AsFencedBlocks"
               ],
    "metadata":  {
                     "azdata_cell_guid":  "5e9ef21d-91f3-4c8a-9f4e-30946aa7d304"
                 },
    "outputs":  [
                    {
                        "name":  "stdout",
                        "output_type":  "stream",
                        "text":  ""
                    }
                ]
},{
    "cell_type":  "code",
    "source":  [
                   "    )"
               ],
    "metadata":  {
                     "azdata_cell_guid":  "9609c7e4-6823-4706-af72-e25faaa069bf"
                 },
    "outputs":  [
                    {
                        "name":  "stdout",
                        "output_type":  "stream",
                        "text":  ""
                    }
                ]
},{
    "cell_type":  "code",
    "source":  [
                   "    $nbData = ConvertFrom-Json (Get-Content -Raw $ipynbFileName)"
               ],
    "metadata":  {
                     "azdata_cell_guid":  "9f5531b4-b12d-4cdf-87bb-076dc254ad1c"
                 },
    "outputs":  [
                    {
                        "name":  "stdout",
                        "output_type":  "stream",
                        "text":  ""
                    }
                ]
},{
    "cell_type":  "code",
    "source":  [
                   "    switch ($nbData.metadata.kernelspec.name) {"
               ],
    "metadata":  {
                     "azdata_cell_guid":  "8d89754e-735f-4b86-9c1e-b286f230088d"
                 },
    "outputs":  [
                    {
                        "name":  "stdout",
                        "output_type":  "stream",
                        "text":  ""
                    }
                ]
},{
    "cell_type":  "code",
    "source":  [
                   "        \".net-powershell\" { Read-JupyterNotebook $nbData -AsFencedBlocks:$AsFencedBlocks }"
               ],
    "metadata":  {
                     "azdata_cell_guid":  "1e0ad222-07e6-4597-aa5d-7168f65f33f5"
                 },
    "outputs":  [
                    {
                        "name":  "stdout",
                        "output_type":  "stream",
                        "text":  ""
                    }
                ]
},{
    "cell_type":  "code",
    "source":  [
                   "        default { $_.name }"
               ],
    "metadata":  {
                     "azdata_cell_guid":  "047093e9-7e5e-4c41-9fe6-81b2d8d1695c"
                 },
    "outputs":  [
                    {
                        "name":  "stdout",
                        "output_type":  "stream",
                        "text":  ""
                    }
                ]
},{
    "cell_type":  "code",
    "source":  [
                   "    }"
               ],
    "metadata":  {
                     "azdata_cell_guid":  "17082bd5-0f7d-46cf-9a78-ee26ac8fddb8"
                 },
    "outputs":  [
                    {
                        "name":  "stdout",
                        "output_type":  "stream",
                        "text":  ""
                    }
                ]
},{
    "cell_type":  "code",
    "source":  [
                   "}"
               ],
    "metadata":  {
                     "azdata_cell_guid":  "e5036cf3-c670-4233-9187-0ad74d7e8ceb"
                 },
    "outputs":  [
                    {
                        "name":  "stdout",
                        "output_type":  "stream",
                        "text":  ""
                    }
                ]
},{
    "cell_type":  "code",
    "source":  [
                   "function Read-JupyterNotebook {"
               ],
    "metadata":  {
                     "azdata_cell_guid":  "463a6ae2-ce5b-4f8b-8eba-223ec3f9f73f"
                 },
    "outputs":  [
                    {
                        "name":  "stdout",
                        "output_type":  "stream",
                        "text":  ""
                    }
                ]
},{
    "cell_type":  "code",
    "source":  [
                   "    param("
               ],
    "metadata":  {
                     "azdata_cell_guid":  "bbc4adac-c04e-4c73-bc2c-26ab24262d84"
                 },
    "outputs":  [
                    {
                        "name":  "stdout",
                        "output_type":  "stream",
                        "text":  ""
                    }
                ]
},{
    "cell_type":  "code",
    "source":  [
                   "        $data,"
               ],
    "metadata":  {
                     "azdata_cell_guid":  "4b7e5366-9106-4a22-b15c-6f9b6d0094dd"
                 },
    "outputs":  [
                    {
                        "name":  "stdout",
                        "output_type":  "stream",
                        "text":  ""
                    }
                ]
},{
    "cell_type":  "code",
    "source":  [
                   "        [Switch]$AsFencedBlocks"
               ],
    "metadata":  {
                     "azdata_cell_guid":  "ab5bf01d-5a1d-4967-b3d3-51accb47e081"
                 },
    "outputs":  [
                    {
                        "name":  "stdout",
                        "output_type":  "stream",
                        "text":  ""
                    }
                ]
},{
    "cell_type":  "code",
    "source":  [
                   "    )"
               ],
    "metadata":  {
                     "azdata_cell_guid":  "443a52d5-9a10-471c-a675-0503be964cce"
                 },
    "outputs":  [
                    {
                        "name":  "stdout",
                        "output_type":  "stream",
                        "text":  ""
                    }
                ]
},{
    "cell_type":  "code",
    "source":  [
                   "    if ($AsFencedBlocks) {"
               ],
    "metadata":  {
                     "azdata_cell_guid":  "8bcacab9-5b37-4eed-996f-dde934c6b7ab"
                 },
    "outputs":  [
                    {
                        "name":  "stdout",
                        "output_type":  "stream",
                        "text":  ""
                    }
                ]
},{
    "cell_type":  "code",
    "source":  [
                   "        ($data.Cells | Where-Object { $_.cell_type -eq \u0027code\u0027 }) | ForEach-Object {"
               ],
    "metadata":  {
                     "azdata_cell_guid":  "db843f5f-79d4-4116-b316-f615fb574d11"
                 },
    "outputs":  [
                    {
                        "name":  "stdout",
                        "output_type":  "stream",
                        "text":  ""
                    }
                ]
},{
    "cell_type":  "code",
    "source":  [
                   "            if ($null -ne $_.source -and $_.source.trim().length -gt 0) {"
               ],
    "metadata":  {
                     "azdata_cell_guid":  "2f354a55-fe77-4c31-bae4-f7c9f7b2b0b0"
                 },
    "outputs":  [
                    {
                        "name":  "stdout",
                        "output_type":  "stream",
                        "text":  ""
                    }
                ]
},{
    "cell_type":  "code",
    "source":  [
                   "                \u0027```powershell\u0027"
               ],
    "metadata":  {
                     "azdata_cell_guid":  "feb548fc-aeb3-49d0-a3e7-37204829dbc9"
                 },
    "outputs":  [
                    {
                        "name":  "stdout",
                        "output_type":  "stream",
                        "text":  ""
                    }
                ]
},{
    "cell_type":  "code",
    "source":  [
                   "                $_.source.Trim()"
               ],
    "metadata":  {
                     "azdata_cell_guid":  "db4fd69a-a15e-4c9a-9088-6a5dd8e69143"
                 },
    "outputs":  [
                    {
                        "name":  "stdout",
                        "output_type":  "stream",
                        "text":  ""
                    }
                ]
},{
    "cell_type":  "code",
    "source":  [
                   "                \u0027```\u0027"
               ],
    "metadata":  {
                     "azdata_cell_guid":  "40ade423-73ef-4d59-881f-352d6b0a61f7"
                 },
    "outputs":  [
                    {
                        "name":  "stdout",
                        "output_type":  "stream",
                        "text":  ""
                    }
                ]
},{
    "cell_type":  "code",
    "source":  [
                   "                \"\""
               ],
    "metadata":  {
                     "azdata_cell_guid":  "3d8477b2-d1b6-4511-aa35-f987a14f14b7"
                 },
    "outputs":  [
                    {
                        "name":  "stdout",
                        "output_type":  "stream",
                        "text":  ""
                    }
                ]
},{
    "cell_type":  "code",
    "source":  [
                   "            }"
               ],
    "metadata":  {
                     "azdata_cell_guid":  "95473ebc-ac09-4d3b-92f1-600b57058e24"
                 },
    "outputs":  [
                    {
                        "name":  "stdout",
                        "output_type":  "stream",
                        "text":  ""
                    }
                ]
},{
    "cell_type":  "code",
    "source":  [
                   "        }"
               ],
    "metadata":  {
                     "azdata_cell_guid":  "2aede8e9-944b-47fc-9bed-800d2a31f319"
                 },
    "outputs":  [
                    {
                        "name":  "stdout",
                        "output_type":  "stream",
                        "text":  ""
                    }
                ]
},{
    "cell_type":  "code",
    "source":  [
                   "    }"
               ],
    "metadata":  {
                     "azdata_cell_guid":  "1cd39b17-aba2-416f-9a8d-e9c7bf0c4ded"
                 },
    "outputs":  [
                    {
                        "name":  "stdout",
                        "output_type":  "stream",
                        "text":  ""
                    }
                ]
},{
    "cell_type":  "code",
    "source":  [
                   "    else {"
               ],
    "metadata":  {
                     "azdata_cell_guid":  "be94cbe9-2235-43f9-8a94-4d09372e85a2"
                 },
    "outputs":  [
                    {
                        "name":  "stdout",
                        "output_type":  "stream",
                        "text":  ""
                    }
                ]
},{
    "cell_type":  "code",
    "source":  [
                   "        ($data.Cells | Where-Object { $_.cell_type -eq \u0027code\u0027 }).source"
               ],
    "metadata":  {
                     "azdata_cell_guid":  "dfe752d3-9694-487b-97d6-29bdb37b5a5e"
                 },
    "outputs":  [
                    {
                        "name":  "stdout",
                        "output_type":  "stream",
                        "text":  ""
                    }
                ]
},{
    "cell_type":  "code",
    "source":  [
                   "    }"
               ],
    "metadata":  {
                     "azdata_cell_guid":  "e9a8b238-7e34-444a-916e-12cb86a7fa4e"
                 },
    "outputs":  [
                    {
                        "name":  "stdout",
                        "output_type":  "stream",
                        "text":  ""
                    }
                ]
},{
    "cell_type":  "code",
    "source":  [
                   "}"
               ],
    "metadata":  {
                     "azdata_cell_guid":  "b089e743-d6d9-4e49-88e3-16a1e1c9dc92"
                 },
    "outputs":  [
                    {
                        "name":  "stdout",
                        "output_type":  "stream",
                        "text":  ""
                    }
                ]
},{
    "cell_type":  "code",
    "source":  [
                   "filter ctmt { $_ | Out-Host }"
               ],
    "metadata":  {
                     "azdata_cell_guid":  "c1e3d3e4-7e86-4b88-9838-673f9305d02d"
                 },
    "outputs":  [
                    {
                        "name":  "stdout",
                        "output_type":  "stream",
                        "text":  ""
                    }
                ]
},{
    "cell_type":  "code",
    "source":  [
                   "function CvtFrom-NBToMD {"
               ],
    "metadata":  {
                     "azdata_cell_guid":  "00598593-759f-48a5-989c-379d8d8fa743"
                 },
    "outputs":  [
                    {
                        "name":  "stdout",
                        "output_type":  "stream",
                        "text":  ""
                    }
                ]
},{
    "cell_type":  "code",
    "source":  [
                   "    param("
               ],
    "metadata":  {
                     "azdata_cell_guid":  "bd7f8e4b-6a37-426d-8b2d-1ec9c5b31245"
                 },
    "outputs":  [
                    {
                        "name":  "stdout",
                        "output_type":  "stream",
                        "text":  ""
                    }
                ]
},{
    "cell_type":  "code",
    "source":  [
                   "        $ipynbFileName"
               ],
    "metadata":  {
                     "azdata_cell_guid":  "f6351816-7eb5-44b7-a8a3-9ece65e787f4"
                 },
    "outputs":  [
                    {
                        "name":  "stdout",
                        "output_type":  "stream",
                        "text":  ""
                    }
                ]
},{
    "cell_type":  "code",
    "source":  [
                   "    )"
               ],
    "metadata":  {
                     "azdata_cell_guid":  "2f787859-1012-4709-9a35-155976b2b60b"
                 },
    "outputs":  [
                    {
                        "name":  "stdout",
                        "output_type":  "stream",
                        "text":  ""
                    }
                ]
},{
    "cell_type":  "code",
    "source":  [
                   "    $nbData = ConvertFrom-Json (Get-Content -Raw $ipynbFileName)"
               ],
    "metadata":  {
                     "azdata_cell_guid":  "2cdf05b5-2377-4b48-9e28-fa83338444ee"
                 },
    "outputs":  [
                    {
                        "name":  "stdout",
                        "output_type":  "stream",
                        "text":  ""
                    }
                ]
},{
    "cell_type":  "code",
    "source":  [
                   "    foreach ($item in $nbData.Cells) {"
               ],
    "metadata":  {
                     "azdata_cell_guid":  "73b50a63-e024-4754-b92f-90c1a55b38ec"
                 },
    "outputs":  [
                    {
                        "name":  "stdout",
                        "output_type":  "stream",
                        "text":  ""
                    }
                ]
},{
    "cell_type":  "code",
    "source":  [
                   "        switch ($item.cell_type) {"
               ],
    "metadata":  {
                     "azdata_cell_guid":  "a4ca109b-97df-4d1f-b943-36848b642fc5"
                 },
    "outputs":  [
                    {
                        "name":  "stdout",
                        "output_type":  "stream",
                        "text":  ""
                    }
                ]
},{
    "cell_type":  "code",
    "source":  [
                   "            \"markdown\" { $item.source }"
               ],
    "metadata":  {
                     "azdata_cell_guid":  "390226d0-1f85-48b8-abab-00ffc048a683"
                 },
    "outputs":  [
                    {
                        "name":  "stdout",
                        "output_type":  "stream",
                        "text":  ""
                    }
                ]
},{
    "cell_type":  "code",
    "source":  [
                   "            \"code\" {"
               ],
    "metadata":  {
                     "azdata_cell_guid":  "c1020daf-fb7a-454d-88d8-8002302f938e"
                 },
    "outputs":  [
                    {
                        "name":  "stdout",
                        "output_type":  "stream",
                        "text":  ""
                    }
                ]
},{
    "cell_type":  "code",
    "source":  [
                   "                if ($null -ne $item.source -and $item.source.trim().length -gt 0) {"
               ],
    "metadata":  {
                     "azdata_cell_guid":  "ebeccda7-6b67-40fb-b718-f2e1c58460f1"
                 },
    "outputs":  [
                    {
                        "name":  "stdout",
                        "output_type":  "stream",
                        "text":  ""
                    }
                ]
},{
    "cell_type":  "code",
    "source":  [
                   "                    \u0027```powershell\u0027"
               ],
    "metadata":  {
                     "azdata_cell_guid":  "9c828c54-26a6-49e0-b040-6fbe40677a14"
                 },
    "outputs":  [
                    {
                        "name":  "stdout",
                        "output_type":  "stream",
                        "text":  ""
                    }
                ]
},{
    "cell_type":  "code",
    "source":  [
                   "                    $item.source.Trim()"
               ],
    "metadata":  {
                     "azdata_cell_guid":  "ac33ac08-194a-4f69-826c-35e934a1ad62"
                 },
    "outputs":  [
                    {
                        "name":  "stdout",
                        "output_type":  "stream",
                        "text":  ""
                    }
                ]
},{
    "cell_type":  "code",
    "source":  [
                   "                    \u0027```\u0027"
               ],
    "metadata":  {
                     "azdata_cell_guid":  "ae2c021d-855e-4431-bff9-ad123f8a7a18"
                 },
    "outputs":  [
                    {
                        "name":  "stdout",
                        "output_type":  "stream",
                        "text":  ""
                    }
                ]
},{
    "cell_type":  "code",
    "source":  [
                   "                    \"\""
               ],
    "metadata":  {
                     "azdata_cell_guid":  "39a3aee9-61d1-47b7-9a39-5864dd3476a6"
                 },
    "outputs":  [
                    {
                        "name":  "stdout",
                        "output_type":  "stream",
                        "text":  ""
                    }
                ]
},{
    "cell_type":  "code",
    "source":  [
                   "                }"
               ],
    "metadata":  {
                     "azdata_cell_guid":  "4e9268b6-90bd-4a6f-8a9e-7931eeb12e1d"
                 },
    "outputs":  [
                    {
                        "name":  "stdout",
                        "output_type":  "stream",
                        "text":  ""
                    }
                ]
},{
    "cell_type":  "code",
    "source":  [
                   "            }"
               ],
    "metadata":  {
                     "azdata_cell_guid":  "4684eb89-5b04-4222-8568-1e628e7e7999"
                 },
    "outputs":  [
                    {
                        "name":  "stdout",
                        "output_type":  "stream",
                        "text":  ""
                    }
                ]
},{
    "cell_type":  "code",
    "source":  [
                   "        }"
               ],
    "metadata":  {
                     "azdata_cell_guid":  "6676a231-66d8-499e-8522-b234ac3f053e"
                 },
    "outputs":  [
                    {
                        "name":  "stdout",
                        "output_type":  "stream",
                        "text":  ""
                    }
                ]
},{
    "cell_type":  "code",
    "source":  [
                   "    }"
               ],
    "metadata":  {
                     "azdata_cell_guid":  "d6324edd-9ad0-470e-8ef3-dc8f050aef64"
                 },
    "outputs":  [
                    {
                        "name":  "stdout",
                        "output_type":  "stream",
                        "text":  ""
                    }
                ]
},{
    "cell_type":  "code",
    "source":  [
                   "}"
               ],
    "metadata":  {
                     "azdata_cell_guid":  "0e21562a-32be-4df7-b004-64743d901d88"
                 },
    "outputs":  [
                    {
                        "name":  "stdout",
                        "output_type":  "stream",
                        "text":  ""
                    }
                ]
},{
    "cell_type":  "code",
    "source":  [
                   "CvtFrom-NBToMD .\\DataAnalysis-Copy.ipynb | clip"
               ],
    "metadata":  {
                     "azdata_cell_guid":  "97024461-e64f-4191-b4d5-b69d8ee9ab4a"
                 },
    "outputs":  [
                    {
                        "name":  "stdout",
                        "output_type":  "stream",
                        "text":  ""
                    }
                ]
},{"cell_type":"markdown","metadata":{},"source":["#doRead .\\DataAnalysis-Copy.ipynb -AsFencedBlocks | clip"]},{"cell_type":"markdown","metadata":{},"source":["#| iex"]}
    ]
}
