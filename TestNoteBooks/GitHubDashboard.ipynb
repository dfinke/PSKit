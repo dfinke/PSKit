{
 "cells": [
  {
   "cell_type": "code",
   "execution_count": 1,
   "metadata": {},
   "outputs": [
    {
     "data": {
      "text/html": [
       "\r\n",
       "<div>\r\n",
       "    <div id='dotnet-interactive-this-cell-62290' style='display: none'>\r\n",
       "        The below script needs to be able to find the current output cell; this is an easy method to get it.\r\n",
       "    </div>\r\n",
       "    <script type='text/javascript'>\r\n",
       "// ensure `requirejs` is available globally\r\n",
       "if (typeof requirejs !== typeof Function || typeof requirejs.config !== typeof Function) {\r\n",
       "    let requirejs_script = document.createElement('script');\r\n",
       "    requirejs_script.setAttribute('src', 'https://cdnjs.cloudflare.com/ajax/libs/require.js/2.3.6/require.min.js');\r\n",
       "    requirejs_script.setAttribute('type', 'text/javascript');\r\n",
       "    requirejs_script.onload = function () {\r\n",
       "        loadDotnetInteractiveApi();\r\n",
       "    };\r\n",
       "\r\n",
       "    document.getElementsByTagName('head')[0].appendChild(requirejs_script);\r\n",
       "}\r\n",
       "else {\r\n",
       "    loadDotnetInteractiveApi();\r\n",
       "}\r\n",
       "\r\n",
       "async function probeAddresses(probingAddresses) {\r\n",
       "    function timeout(ms, promise) {\r\n",
       "        return new Promise(function (resolve, reject) {\r\n",
       "            setTimeout(function () {\r\n",
       "                reject(new Error('timeout'))\r\n",
       "            }, ms)\r\n",
       "            promise.then(resolve, reject)\r\n",
       "        })\r\n",
       "    }\r\n",
       "\r\n",
       "    if (Array.isArray(probingAddresses)) {\r\n",
       "        for (let i = 0; i < probingAddresses.length; i++) {\r\n",
       "\r\n",
       "            let rootUrl = probingAddresses[i];\r\n",
       "\r\n",
       "            if (!rootUrl.endsWith('/')) {\r\n",
       "                rootUrl = `${rootUrl}/`;\r\n",
       "            }\r\n",
       "\r\n",
       "            try {\r\n",
       "                let response = await timeout(1000, fetch(`${rootUrl}discovery`, {\r\n",
       "                    method: 'POST',\r\n",
       "                    timeout: 1000,\r\n",
       "                    headers: {\r\n",
       "                        'Content-Type': 'text/plain'\r\n",
       "                    },\r\n",
       "                    body: probingAddresses[i]\r\n",
       "                }));\r\n",
       "\r\n",
       "                if (response.status == 200) {\r\n",
       "                    return rootUrl;\r\n",
       "                }\r\n",
       "            }\r\n",
       "            catch (e) { }\r\n",
       "        }\r\n",
       "    }\r\n",
       "}\r\n",
       "\r\n",
       "function loadDotnetInteractiveApi() {\r\n",
       "    probeAddresses([\"http://172.25.224.1:62290/\", \"http://172.23.192.1:62290/\", \"http://192.168.1.65:62290/\", \"http://127.0.0.1:62290/\"])\r\n",
       "        .then((root) => {\r\n",
       "            // use probing to find host url and api resources\r\n",
       "            // load interactive helpers and language services\r\n",
       "            let dotnet_require = requirejs.config({\r\n",
       "                context: '11640.62290',\r\n",
       "                paths: {\r\n",
       "                    'dotnet-interactive': `${root}resources`\r\n",
       "                }\r\n",
       "            });\r\n",
       "            if (!window.dotnet_require) {\r\n",
       "                window.dotnet_require = dotnet_require;\r\n",
       "            }\r\n",
       "        \r\n",
       "            dotnet_require([\r\n",
       "                    'dotnet-interactive/dotnet-interactive',\r\n",
       "                    'dotnet-interactive/lsp',\r\n",
       "                    'dotnet-interactive/editor-detection'\r\n",
       "                ],\r\n",
       "                function (dotnet, lsp, editor) {\r\n",
       "                    dotnet.init(window);\r\n",
       "                    \r\n",
       "                },\r\n",
       "                function (error) {\r\n",
       "                    console.log(error);\r\n",
       "                }\r\n",
       "            );\r\n",
       "        })\r\n",
       "        .catch(error => {console.log(error);});\r\n",
       "    }\r\n",
       "    </script>\r\n",
       "</div>"
      ]
     },
     "metadata": {},
     "output_type": "display_data"
    },
    {
     "data": {
      "text/plain": [
       "Installed package Octokit version 0.47.0"
      ]
     },
     "metadata": {},
     "output_type": "display_data"
    },
    {
     "data": {
      "text/plain": [
       "Installed package NodaTime version 2.4.8"
      ]
     },
     "metadata": {},
     "output_type": "display_data"
    }
   ],
   "source": [
    "#r \"nuget:NodaTime,2.4.8\"\n",
    "#r \"nuget:Octokit,0.47.0\"\n",
    "\n",
    "using Octokit;\n",
    "using NodaTime;\n",
    "using NodaTime.Extensions;\n",
    "using XPlot.Plotly;"
   ]
  },
  {
   "cell_type": "code",
   "execution_count": 2,
   "metadata": {},
   "outputs": [],
   "source": [
    "var organization = \"dfinke\";\n",
    "var repositoryName = \"importexcel\";\n",
    "var options = new ApiOptions();\n",
    "var gitHubClient = new GitHubClient(new ProductHeaderValue(\"notebook\"));\n"
   ]
  },
  {
   "cell_type": "code",
   "execution_count": 3,
   "metadata": {},
   "outputs": [],
   "source": [
    "var tokenAuth = new Credentials(\"8f15d0323fc105b2017671e19714a7b4dcdc648c\");\n",
    "gitHubClient.Credentials = tokenAuth;"
   ]
  },
  {
   "cell_type": "code",
   "execution_count": 4,
   "metadata": {},
   "outputs": [],
   "source": [
    "var today = SystemClock.Instance.InUtc().GetCurrentDate();\n",
    "var startOfTheMonth = today.With(DateAdjusters.StartOfMonth);\n",
    "var startOfPreviousMonth = today.With(DateAdjusters.StartOfMonth) - Period.FromMonths(1);\n",
    "var startOfTheYear = new LocalDate(today.Year, 1, 1).AtMidnight();\n",
    "\n",
    "var currentYearIssuesRequest = new RepositoryIssueRequest {\n",
    "     State = ItemStateFilter.All,\n",
    "     Since = startOfTheYear.ToDateTimeUnspecified()\n",
    "};\n",
    "\n",
    "var pullRequestRequest = new PullRequestRequest {\n",
    "    State = ItemStateFilter.All\n",
    "};"
   ]
  },
  {
   "cell_type": "code",
   "execution_count": 5,
   "metadata": {},
   "outputs": [
    {
     "data": {
      "text/plain": [
       "Wall time: 21376.7409ms"
      ]
     },
     "metadata": {},
     "output_type": "display_data"
    }
   ],
   "source": [
    "#!time\n",
    "var branches = await gitHubClient.Repository.Branch.GetAll(organization, repositoryName);\n",
    "var pullRequests = await gitHubClient.Repository.PullRequest.GetAllForRepository(organization, repositoryName, pullRequestRequest);\n",
    "var forks = await gitHubClient.Repository.Forks.GetAll(organization, repositoryName);\n",
    "var currentYearIssues = await gitHubClient.Issue.GetAllForRepository(organization, repositoryName, currentYearIssuesRequest);"
   ]
  },
  {
   "cell_type": "code",
   "execution_count": 6,
   "metadata": {},
   "outputs": [],
   "source": [
    "\n",
    "var pullRequestCreatedThisMonth = pullRequests.Where(pr => pr.CreatedAt > startOfTheMonth.ToDateTimeUnspecified());\n",
    "var pullRequestClosedThisMonth =pullRequests.Where(pr => (pr.MergedAt != null && pr.MergedAt > startOfTheMonth.ToDateTimeUnspecified()));\n",
    "var contributorsCount = pullRequestClosedThisMonth.GroupBy(pr => pr.User.Login);\n",
    "\n",
    "var pullRequestLifespan = pullRequests.GroupBy(pr =>\n",
    "            {\n",
    "                var lifeSpan = (pr.ClosedAt ?? today.ToDateTimeUnspecified()) - pr.CreatedAt;\n",
    "                return Math.Max(0, Math.Ceiling(lifeSpan.TotalDays));\n",
    "            })\n",
    "            .Where(g => g.Key > 0)\n",
    "            .OrderBy(g => g.Key)\n",
    "            .ToDictionary(g => g.Key, g => g.Count());"
   ]
  },
  {
   "cell_type": "code",
   "execution_count": 7,
   "metadata": {},
   "outputs": [],
   "source": [
    "var forkCreatedThisMonth = forks.Where(fork => fork.CreatedAt >= startOfTheMonth.ToDateTimeUnspecified());\n",
    "var forkCreatedPreviousMonth = forks.Where(fork => (fork.CreatedAt >= startOfPreviousMonth.ToDateTimeUnspecified()) && (fork.CreatedAt < startOfTheMonth.ToDateTimeUnspecified()));\n",
    "var forkCreatedByMonth = forks.GroupBy(fork => new DateTime(fork.CreatedAt.Year, fork.CreatedAt.Month, 1));\n",
    "var forkUpdateByMonth = forks.GroupBy(f => new DateTime(f.UpdatedAt.Year, f.UpdatedAt.Month,  1) ).Select(g => new {Date = g.Key, Count = g.Count()}).OrderBy(g => g.Date).ToArray();\n",
    "var total = 0;\n",
    "var forkCountByMonth = forkCreatedByMonth.OrderBy(g => g.Key).Select(g => new {Date = g.Key, Count = total += g.Count()}).ToArray();\n"
   ]
  },
  {
   "cell_type": "code",
   "execution_count": 8,
   "metadata": {},
   "outputs": [
    {
     "data": {
      "text/html": [
       "<table><thead><tr><th>less_then_one_sprint</th><th>less_then_two_sprint</th><th>more_then_two_sprint</th></tr></thead><tbody><tr><td>1</td><td>0</td><td>4</td></tr></tbody></table>"
      ]
     },
     "metadata": {},
     "output_type": "display_data"
    }
   ],
   "source": [
    "bool IsBug(Issue issue){\n",
    "    return issue.Labels.FirstOrDefault(l => l.Name == \"bug\")!= null;\n",
    "}\n",
    "\n",
    "bool TargetsArea(Issue issue){\n",
    "    return issue.Labels.FirstOrDefault(l => l.Name.StartsWith(\"Area-\"))!= null;\n",
    "}\n",
    "\n",
    "string GetArea(Issue issue){\n",
    "    return issue.Labels.FirstOrDefault(l => l.Name.StartsWith(\"Area-\"))?.Name;\n",
    "}\n",
    "\n",
    "var openIssues = currentYearIssues.Where(IsBug).Where(issue => issue.State == \"open\");\n",
    "var closedIssues = currentYearIssues.Where(IsBug).Where(issue => issue.State == \"closed\");\n",
    "var oldestIssues = openIssues.OrderBy(issue => today.ToDateTimeUnspecified() - issue.CreatedAt).Take(20);\n",
    "var createdCurrentMonth = currentYearIssues.Where(IsBug).Where(issue => issue.CreatedAt >= startOfTheMonth.ToDateTimeUnspecified());\n",
    "var createdPreviousMonth = currentYearIssues.Where(IsBug).Where(issue => (issue.CreatedAt >= startOfPreviousMonth.ToDateTimeUnspecified()) && (issue.CreatedAt < startOfTheMonth.ToDateTimeUnspecified()));\n",
    "var openFromPreviousMonth = openIssues.Where(issue => (issue.CreatedAt > startOfPreviousMonth.ToDateTimeUnspecified()) && (issue.CreatedAt < startOfTheMonth.ToDateTimeUnspecified()));\n",
    "var createdByMonth = currentYearIssues.Where(IsBug).GroupBy(issue => new DateTime(issue.CreatedAt.Year, issue.CreatedAt.Month, 1)).OrderBy(g=>g.Key).ToDictionary(g => g.Key, g => g.Count());\n",
    "var closedByMonth = closedIssues.GroupBy(issue => new DateTime((int) issue.ClosedAt?.Year, (int) issue.ClosedAt?.Month, 1)).OrderBy(g=>g.Key).ToDictionary(g => g.Key, g => g.Count());\n",
    "var openIssueAge = openIssues.GroupBy(issue => new DateTime(issue.CreatedAt.Year, issue.CreatedAt.Month, issue.CreatedAt.Day)).ToDictionary(g => g.Key, g => g.Max(issue =>Math.Max(0, Math.Ceiling( (today.ToDateTimeUnspecified() - issue.CreatedAt).TotalDays))));\n",
    "var openByMonth = new Dictionary<DateTime, int>();\n",
    "var minDate = createdByMonth.Min(g => g.Key);\n",
    "var maxCreatedAtDate = createdByMonth.Max(g => g.Key);\n",
    "var maxClosedAtDate = closedByMonth.Max(g => g.Key);\n",
    "var maxDate = maxCreatedAtDate > maxClosedAtDate ?maxCreatedAtDate : maxClosedAtDate;\n",
    "var cursor = minDate;\n",
    "var runningTotal = 0;\n",
    "var issuesCreatedThisMonthByArea = currentYearIssues.Where(issue => issue.CreatedAt >= startOfTheMonth.ToDateTimeUnspecified()).Where(issue => IsBug(issue) && TargetsArea(issue)).GroupBy(issue => GetArea(issue)).ToDictionary(g => g.Key, g => g.Count());\n",
    "var openIssueByArea = currentYearIssues.Where(issue => issue.State == \"open\").Where(issue => IsBug(issue) && TargetsArea(issue)).GroupBy(issue => GetArea(issue)).ToDictionary(g => g.Key, g => g.Count());\n",
    "\n",
    "while (cursor <= maxDate )\n",
    "{\n",
    "    createdByMonth.TryGetValue(cursor, out var openCount);\n",
    "    closedByMonth.TryGetValue(cursor, out var closedCount);\n",
    "    runningTotal += (openCount - closedCount);\n",
    "    openByMonth[cursor] = runningTotal;\n",
    "    cursor = cursor.AddMonths(1);\n",
    "}\n",
    "\n",
    "var issueLifespan = currentYearIssues.Where(IsBug).GroupBy(issue =>\n",
    "            {\n",
    "                var lifeSpan = (issue.ClosedAt ?? today.ToDateTimeUnspecified()) - issue.CreatedAt;\n",
    "                return Math.Max(0, Math.Round(Math.Ceiling(lifeSpan.TotalDays),0));\n",
    "            })\n",
    "            .Where(g => g.Key > 0)\n",
    "            .OrderBy(g => g.Key)\n",
    "            .ToDictionary(g => g.Key, g => g.Count());\n",
    "\n",
    "display(new { \n",
    "    less_then_one_sprint = issueLifespan.Where(i=> i.Key < 21).Select(i => i.Value).Sum(),\n",
    "    less_then_two_sprint = issueLifespan.Where(i=> i.Key >= 21 && i.Key < 42).Select(i => i.Value).Sum(),\n",
    "    more_then_two_sprint = issueLifespan.Where(i=> i.Key >= 42).Select(i => i.Value).Sum()   \n",
    "    });"
   ]
  },
  {
   "cell_type": "code",
   "execution_count": 9,
   "metadata": {},
   "outputs": [
    {
     "data": {
      "text/html": [
       "<div id=\"e14b648e-fc59-4b20-8b13-1624aba91d6a\" style=\"width: 900px; height: 500px;\"></div>\r\n",
       "<script type=\"text/javascript\">\r\n",
       "\r\n",
       "var renderPlotly = function() {\r\n",
       "    var xplotRequire = requirejs.config({context:'xplot-3.0.1',paths:{plotly:'https://cdn.plot.ly/plotly-1.49.2.min'}});\r\n",
       "    xplotRequire(['plotly'], function(Plotly) {\r\n",
       "\n",
       "            var data = [{\"type\":\"bar\",\"x\":[1.0,2.0,3.0,4.0,5.0,6.0],\"y\":[88,13,9,4,7,9],\"marker\":{\"color\":\"green\"},\"name\":\"One week\"},{\"type\":\"bar\",\"x\":[7.0,8.0,10.0,12.0,15.0,18.0],\"y\":[2,5,3,4,1,1],\"marker\":{\"color\":\"yellow\"},\"name\":\"One Sprint\"},{\"type\":\"bar\",\"x\":[21.0,24.0,26.0,27.0,28.0,37.0,38.0,40.0,43.0,68.0,72.0,85.0,109.0,115.0,123.0,137.0,149.0,150.0,177.0,208.0,248.0,274.0,278.0,311.0,350.0,390.0,431.0,446.0,454.0,457.0,461.0,472.0,506.0,548.0,563.0,579.0,593.0,618.0,625.0,649.0,709.0,864.0],\"y\":[1,1,1,1,1,1,2,1,1,1,1,1,1,1,2,1,1,1,1,1,1,1,1,1,1,2,1,1,1,1,1,1,2,1,1,1,1,1,1,1,1,2],\"marker\":{\"color\":\"red\"},\"name\":\"More than a Sprint\"}];\n",
       "            var layout = {\"title\":\"Pull Request by life span\",\"xaxis\":{\"title\":\"Number of days a PR stays open\",\"showgrid\":false,\"zeroline\":false,\"_isSubplotObj\":true},\"yaxis\":{\"title\":\"Number of PR\",\"showgrid\":true,\"zeroline\":false,\"_isSubplotObj\":true}};\n",
       "            Plotly.newPlot('e14b648e-fc59-4b20-8b13-1624aba91d6a', data, layout);\n",
       "        \r\n",
       "});\r\n",
       "};\r\n",
       "if ((typeof(requirejs) !==  typeof(Function)) || (typeof(requirejs.config) !== typeof(Function))) { \r\n",
       "    var script = document.createElement(\"script\"); \r\n",
       "    script.setAttribute(\"src\", \"https://cdnjs.cloudflare.com/ajax/libs/require.js/2.3.6/require.min.js\"); \r\n",
       "    script.onload = function(){\r\n",
       "        renderPlotly();\r\n",
       "    };\r\n",
       "    document.getElementsByTagName(\"head\")[0].appendChild(script); \r\n",
       "}\r\n",
       "else {\r\n",
       "    renderPlotly();\r\n",
       "}\r\n",
       "</script>\r\n"
      ]
     },
     "metadata": {},
     "output_type": "display_data"
    }
   ],
   "source": [
    "var prColors = pullRequestLifespan.OrderBy(pr => pr.Key).Select(pr => pr.Key < 7 ? \"green\" : pr.Key < 21 ? \"yellow\" : \"red\");\n",
    "var prLifespanOneWeekSeries = new Graph.Bar\n",
    "{\n",
    "    name = \"One week\",\n",
    "    y = pullRequestLifespan.Where(issue => issue.Key < 7).OrderBy(pr => pr.Key).Select(pr => pr.Value),\n",
    "    x = pullRequestLifespan.Where(issue => issue.Key < 7).OrderBy(pr => pr.Key).Select(pr => pr.Key) ,\n",
    "    marker = new Graph.Marker{\n",
    "        color = \"green\"\n",
    "    }  \n",
    "};\n",
    "\n",
    "var prLifespanOneSprintSeries = new Graph.Bar\n",
    "{\n",
    "    name = \"One Sprint\",\n",
    "    y = pullRequestLifespan.Where(issue => issue.Key >= 7 && issue.Key < 21).OrderBy(pr => pr.Key).Select(pr => pr.Value),\n",
    "    x = pullRequestLifespan.Where(issue => issue.Key >= 7 && issue.Key < 21).OrderBy(pr => pr.Key).Select(pr => pr.Key) ,\n",
    "    marker = new Graph.Marker{\n",
    "        color = \"yellow\"\n",
    "    }  \n",
    "};\n",
    "\n",
    "var prLifespanMoreThanASprintSeries = new Graph.Bar\n",
    "{\n",
    "    name = \"More than a Sprint\",\n",
    "    y = pullRequestLifespan.Where(issue => issue.Key >= 21).OrderBy(pr => pr.Key).Select(pr => pr.Value),\n",
    "    x = pullRequestLifespan.Where(issue => issue.Key >= 21).OrderBy(pr => pr.Key).Select(pr => pr.Key) ,\n",
    "    marker = new Graph.Marker{\n",
    "        color = \"red\"\n",
    "    }  \n",
    "};\n",
    "\n",
    "var prLifespanChart = Chart.Plot(new[] {prLifespanOneWeekSeries, prLifespanOneSprintSeries, prLifespanMoreThanASprintSeries});\n",
    "prLifespanChart.WithLayout(new Layout.Layout\n",
    "            {\n",
    "                title = \"Pull Request by life span\",\n",
    "                xaxis = new Graph.Xaxis {\n",
    "                    title = \"Number of days a PR stays open\",\n",
    "                    showgrid = false,\n",
    "                    zeroline = false\n",
    "                },\n",
    "                yaxis = new Graph.Yaxis {\n",
    "                    title = \"Number of PR\",\n",
    "                    showgrid = true,\n",
    "                    zeroline = false\n",
    "                }\n",
    "            });\n",
    "display(prLifespanChart);"
   ]
  },
  {
   "cell_type": "code",
   "execution_count": 10,
   "metadata": {},
   "outputs": [
    {
     "data": {
      "text/html": [
       "<div id=\"06c8aabf-62fa-4945-820a-dd66f7086239\" style=\"width: 900px; height: 500px;\"></div>\r\n",
       "<script type=\"text/javascript\">\r\n",
       "\r\n",
       "var renderPlotly = function() {\r\n",
       "    var xplotRequire = requirejs.config({context:'xplot-3.0.1',paths:{plotly:'https://cdn.plot.ly/plotly-1.49.2.min'}});\r\n",
       "    xplotRequire(['plotly'], function(Plotly) {\r\n",
       "\n",
       "            var data = [{\"type\":\"scattergl\",\"x\":[\"2020-09-01T00:00:00\",\"2020-08-01T00:00:00\",\"2020-07-01T00:00:00\",\"2020-06-01T00:00:00\",\"2020-05-01T00:00:00\",\"2020-04-01T00:00:00\",\"2020-03-01T00:00:00\",\"2020-02-01T00:00:00\",\"2020-01-01T00:00:00\",\"2019-12-01T00:00:00\",\"2019-11-01T00:00:00\",\"2019-10-01T00:00:00\",\"2019-09-01T00:00:00\",\"2019-08-01T00:00:00\",\"2019-07-01T00:00:00\",\"2019-06-01T00:00:00\",\"2019-05-01T00:00:00\",\"2019-04-01T00:00:00\",\"2019-03-01T00:00:00\",\"2019-02-01T00:00:00\",\"2019-01-01T00:00:00\",\"2018-12-01T00:00:00\",\"2018-11-01T00:00:00\",\"2018-10-01T00:00:00\",\"2018-09-01T00:00:00\",\"2018-08-01T00:00:00\",\"2018-07-01T00:00:00\",\"2018-06-01T00:00:00\",\"2018-05-01T00:00:00\",\"2018-04-01T00:00:00\",\"2018-03-01T00:00:00\",\"2018-02-01T00:00:00\",\"2018-01-01T00:00:00\",\"2017-12-01T00:00:00\",\"2017-11-01T00:00:00\",\"2017-10-01T00:00:00\",\"2017-09-01T00:00:00\",\"2017-08-01T00:00:00\",\"2017-07-01T00:00:00\",\"2017-06-01T00:00:00\",\"2017-05-01T00:00:00\",\"2017-04-01T00:00:00\",\"2017-03-01T00:00:00\",\"2017-02-01T00:00:00\",\"2017-01-01T00:00:00\",\"2016-12-01T00:00:00\",\"2016-11-01T00:00:00\",\"2016-10-01T00:00:00\",\"2016-09-01T00:00:00\",\"2016-08-01T00:00:00\",\"2016-07-01T00:00:00\",\"2016-06-01T00:00:00\",\"2016-05-01T00:00:00\",\"2016-04-01T00:00:00\",\"2016-03-01T00:00:00\",\"2016-02-01T00:00:00\",\"2016-01-01T00:00:00\",\"2015-12-01T00:00:00\",\"2015-11-01T00:00:00\",\"2015-10-01T00:00:00\",\"2015-09-01T00:00:00\",\"2015-08-01T00:00:00\",\"2015-07-01T00:00:00\",\"2015-06-01T00:00:00\",\"2015-05-01T00:00:00\",\"2015-04-01T00:00:00\",\"2015-03-01T00:00:00\"],\"y\":[2,5,4,5,5,9,7,5,4,7,4,5,8,9,6,2,6,8,2,6,7,6,3,4,4,1,4,7,6,4,6,4,1,5,4,5,3,5,3,2,1,3,4,3,2,4,1,2,4,4,4,2,1,1,5,2,5,1,1,3,2,2,2,1,2,5,2],\"name\":\"created by month\"},{\"type\":\"scattergl\",\"x\":[\"2015-03-01T00:00:00\",\"2015-04-01T00:00:00\",\"2015-05-01T00:00:00\",\"2015-06-01T00:00:00\",\"2015-07-01T00:00:00\",\"2015-08-01T00:00:00\",\"2015-09-01T00:00:00\",\"2015-10-01T00:00:00\",\"2015-11-01T00:00:00\",\"2015-12-01T00:00:00\",\"2016-01-01T00:00:00\",\"2016-02-01T00:00:00\",\"2016-03-01T00:00:00\",\"2016-04-01T00:00:00\",\"2016-05-01T00:00:00\",\"2016-06-01T00:00:00\",\"2016-07-01T00:00:00\",\"2016-08-01T00:00:00\",\"2016-09-01T00:00:00\",\"2016-10-01T00:00:00\",\"2016-11-01T00:00:00\",\"2016-12-01T00:00:00\",\"2017-01-01T00:00:00\",\"2017-02-01T00:00:00\",\"2017-03-01T00:00:00\",\"2017-04-01T00:00:00\",\"2017-05-01T00:00:00\",\"2017-06-01T00:00:00\",\"2017-07-01T00:00:00\",\"2017-08-01T00:00:00\",\"2017-09-01T00:00:00\",\"2017-10-01T00:00:00\",\"2017-11-01T00:00:00\",\"2017-12-01T00:00:00\",\"2018-01-01T00:00:00\",\"2018-02-01T00:00:00\",\"2018-03-01T00:00:00\",\"2018-04-01T00:00:00\",\"2018-05-01T00:00:00\",\"2018-06-01T00:00:00\",\"2018-07-01T00:00:00\",\"2018-08-01T00:00:00\",\"2018-09-01T00:00:00\",\"2018-10-01T00:00:00\",\"2018-11-01T00:00:00\",\"2018-12-01T00:00:00\",\"2019-01-01T00:00:00\",\"2019-02-01T00:00:00\",\"2019-03-01T00:00:00\",\"2019-04-01T00:00:00\",\"2019-05-01T00:00:00\",\"2019-06-01T00:00:00\",\"2019-07-01T00:00:00\",\"2019-08-01T00:00:00\",\"2019-09-01T00:00:00\",\"2019-10-01T00:00:00\",\"2019-11-01T00:00:00\",\"2019-12-01T00:00:00\",\"2020-01-01T00:00:00\",\"2020-02-01T00:00:00\",\"2020-03-01T00:00:00\",\"2020-04-01T00:00:00\",\"2020-05-01T00:00:00\",\"2020-06-01T00:00:00\",\"2020-07-01T00:00:00\",\"2020-08-01T00:00:00\",\"2020-09-01T00:00:00\"],\"y\":[2,7,9,10,12,14,16,19,20,21,26,28,33,34,35,37,41,45,49,51,52,56,58,61,65,68,69,71,74,79,82,87,91,96,97,101,107,111,117,124,128,129,133,137,140,146,153,159,161,169,175,177,183,192,200,205,209,216,220,225,232,241,246,251,255,260,262],\"name\":\"running total\"},{\"type\":\"scattergl\",\"x\":[\"2015-03-01T00:00:00\",\"2015-04-01T00:00:00\",\"2015-05-01T00:00:00\",\"2015-06-01T00:00:00\",\"2015-07-01T00:00:00\",\"2015-08-01T00:00:00\",\"2015-09-01T00:00:00\",\"2015-10-01T00:00:00\",\"2015-12-01T00:00:00\",\"2016-01-01T00:00:00\",\"2016-02-01T00:00:00\",\"2016-03-01T00:00:00\",\"2016-04-01T00:00:00\",\"2016-05-01T00:00:00\",\"2016-06-01T00:00:00\",\"2016-07-01T00:00:00\",\"2016-08-01T00:00:00\",\"2016-09-01T00:00:00\",\"2016-10-01T00:00:00\",\"2016-12-01T00:00:00\",\"2017-01-01T00:00:00\",\"2017-02-01T00:00:00\",\"2017-03-01T00:00:00\",\"2017-04-01T00:00:00\",\"2017-05-01T00:00:00\",\"2017-06-01T00:00:00\",\"2017-07-01T00:00:00\",\"2017-08-01T00:00:00\",\"2017-09-01T00:00:00\",\"2017-10-01T00:00:00\",\"2017-11-01T00:00:00\",\"2017-12-01T00:00:00\",\"2018-01-01T00:00:00\",\"2018-02-01T00:00:00\",\"2018-03-01T00:00:00\",\"2018-04-01T00:00:00\",\"2018-05-01T00:00:00\",\"2018-06-01T00:00:00\",\"2018-07-01T00:00:00\",\"2018-08-01T00:00:00\",\"2018-09-01T00:00:00\",\"2018-10-01T00:00:00\",\"2018-11-01T00:00:00\",\"2018-12-01T00:00:00\",\"2019-01-01T00:00:00\",\"2019-02-01T00:00:00\",\"2019-03-01T00:00:00\",\"2019-04-01T00:00:00\",\"2019-05-01T00:00:00\",\"2019-06-01T00:00:00\",\"2019-07-01T00:00:00\",\"2019-08-01T00:00:00\",\"2019-09-01T00:00:00\",\"2019-10-01T00:00:00\",\"2019-11-01T00:00:00\",\"2019-12-01T00:00:00\",\"2020-01-01T00:00:00\",\"2020-02-01T00:00:00\",\"2020-03-01T00:00:00\",\"2020-04-01T00:00:00\",\"2020-05-01T00:00:00\",\"2020-06-01T00:00:00\",\"2020-07-01T00:00:00\",\"2020-08-01T00:00:00\",\"2020-09-01T00:00:00\"],\"y\":[1,4,2,1,2,2,2,3,1,4,2,5,1,1,2,4,4,4,1,4,2,3,4,3,1,2,4,5,4,2,4,4,1,4,6,4,5,7,4,1,4,3,3,7,7,5,2,7,6,4,7,10,8,6,3,7,6,7,9,8,5,5,5,6,2],\"name\":\"last update by month\"}];\n",
       "            var layout = {\"title\":\"Fork activity\"};\n",
       "            Plotly.newPlot('06c8aabf-62fa-4945-820a-dd66f7086239', data, layout);\n",
       "        \r\n",
       "});\r\n",
       "};\r\n",
       "if ((typeof(requirejs) !==  typeof(Function)) || (typeof(requirejs.config) !== typeof(Function))) { \r\n",
       "    var script = document.createElement(\"script\"); \r\n",
       "    script.setAttribute(\"src\", \"https://cdnjs.cloudflare.com/ajax/libs/require.js/2.3.6/require.min.js\"); \r\n",
       "    script.onload = function(){\r\n",
       "        renderPlotly();\r\n",
       "    };\r\n",
       "    document.getElementsByTagName(\"head\")[0].appendChild(script); \r\n",
       "}\r\n",
       "else {\r\n",
       "    renderPlotly();\r\n",
       "}\r\n",
       "</script>\r\n"
      ]
     },
     "metadata": {},
     "output_type": "display_data"
    }
   ],
   "source": [
    "var forkCreationSeries = new Graph.Scattergl\n",
    "{\n",
    "    name = \"created by month\",\n",
    "    y = forkCreatedByMonth.Select(g => g.Count() ).ToArray(),\n",
    "    x = forkCreatedByMonth.Select(g => g.Key ).ToArray()\n",
    "};\n",
    "\n",
    "var forkTotalSeries = new Graph.Scattergl\n",
    "{\n",
    "    name = \"running total\",\n",
    "    y = forkCountByMonth.Select(g => g.Count ).ToArray(),\n",
    "    x = forkCountByMonth.Select(g => g.Date ).ToArray()\n",
    "};\n",
    "\n",
    "var forkUpdateSeries = new Graph.Scattergl\n",
    "{\n",
    "    name = \"last update by month\",\n",
    "    y = forkUpdateByMonth.Select(g => g.Count ).ToArray(),\n",
    "    x = forkUpdateByMonth.Select(g => g.Date ).ToArray()\n",
    "};\n",
    "\n",
    "\n",
    "\n",
    "var chart = Chart.Plot(new[] {forkCreationSeries,forkTotalSeries,forkUpdateSeries});\n",
    "chart.WithTitle(\"Fork activity\");\n",
    "display(chart)"
   ]
  }
 ],
 "metadata": {
  "kernelspec": {
   "display_name": ".NET (C#)",
   "language": "C#",
   "name": ".net-csharp"
  },
  "language_info": {
   "file_extension": ".cs",
   "mimetype": "text/x-csharp",
   "name": "C#",
   "pygments_lexer": "csharp",
   "version": "8.0"
  }
 },
 "nbformat": 4,
 "nbformat_minor": 4
}
