{
  "nbformat_minor": 4,
  "cells": [
    {
      "cell_type": "markdown",
      "source": [
        "# Try All .NET Interactive Languages"
      ],
      "metadata": {}
    },
    {
      "outputs": [],
      "metadata": {
        "dotnet_interactive": {
          "language": "csharp"
        }
      },
      "execution_count": null,
      "cell_type": "code",
      "source": [
        "Console.WriteLine(\"Hello World\")"
      ]
    },
    {
      "outputs": [],
      "metadata": {
        "dotnet_interactive": {
          "language": "pwsh"
        }
      },
      "execution_count": null,
      "cell_type": "code",
      "source": [
        "1..3"
      ]
    },
    {
      "outputs": [],
      "metadata": {
        "dotnet_interactive": {
          "language": "fsharp"
        }
      },
      "execution_count": null,
      "cell_type": "code",
      "source": [
        "\"Hello World\" |>  Console.WriteLine"
      ]
    },
    {
      "outputs": [],
      "metadata": {
        "dotnet_interactive": {
          "language": "sql"
        }
      },
      "execution_count": null,
      "cell_type": "code",
      "source": [
        "select * from table"
      ]
    },
    {
      "outputs": [],
      "metadata": {
        "dotnet_interactive": {
          "language": "csharp"
        }
      },
      "execution_count": null,
      "cell_type": "code",
      "source": [
        "Console.WriteLine(\"Hello World again, from C#\")"
      ]
    }
  ],
  "metadata": {
    "language_info": {
      "pygments_lexer": "csharp",
      "name": "C#",
      "file_extension": ".cs",
      "mimetype": "text/x-csharp",
      "version": "8.0"
    },
    "kernelspec": {
      "language": "C#",
      "name": ".net-csharp",
      "display_name": ".NET (C#)"
    }
  },
  "nbformat": 4
}
