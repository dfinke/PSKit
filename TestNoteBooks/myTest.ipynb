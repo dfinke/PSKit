{
  "cells": [
    {
      "cell_type": "markdown",
      "metadata": {},
      "source": [
        "# Try All .NET Interactive Languages"
      ]
    },
    {
      "cell_type": "code",
      "execution_count": null,
      "metadata": {
        "dotnet_interactive": {
          "language": "csharp"
        }
      },
      "outputs": [
        {
          "data": {
            "text/plain": "Hello World\r\n"
          },
          "output_type": "unknown"
        }
      ],
      "source": [
        "Console.WriteLine(\"Hello World\")"
      ]
    },
    {
      "cell_type": "code",
      "execution_count": null,
      "metadata": {
        "dotnet_interactive": {
          "language": "pwsh"
        }
      },
      "outputs": [
        {
          "data": {
            "text/plain": "1\r\n"
          },
          "output_type": "unknown"
        },
        {
          "data": {
            "text/plain": "2\r\n"
          },
          "output_type": "unknown"
        },
        {
          "data": {
            "text/plain": "3\r\n"
          },
          "output_type": "unknown"
        }
      ],
      "source": [
        "1..3"
      ]
    },
    {
      "cell_type": "code",
      "execution_count": null,
      "metadata": {
        "dotnet_interactive": {
          "language": "fsharp"
        }
      },
      "outputs": [
        {
          "data": {
            "text/plain": "Hello World\r\n"
          },
          "output_type": "unknown"
        }
      ],
      "source": [
        "\"Hello World\" |>  Console.WriteLine"
      ]
    },
    {
      "cell_type": "code",
      "execution_count": null,
      "metadata": {
        "dotnet_interactive": {
          "language": "sql"
        }
      },
      "outputs": [
        {
          "data": {
            "text/html": "\r\n<p>A SQL connection has not been established.</p>\r\n<p>To connect to a database, first add the SQL extension package by running the following in a C# cell:</p>\r\n<code>\r\n    <pre>\r\n    #r \"nuget:Microsoft.DotNet.Interactive.SqlServer,*-*\"\r\n    </pre>\r\n</code>\r\nNow, you can connect to a Microsoft SQL Server database by running the following in a C# cell:\r\n<code>\r\n    <pre>\r\n    #!connect mssql --kernel-name mydatabase \"Persist Security Info=False; Integrated Security=true; Initial Catalog=MyDatabase; Server=localhost\"\r\n    </pre>\r\n</code>\r\n<p>Once a connection is established, you can send SQL statements by prefixing them with the magic command for your connection.</p>\r\n<code>\r\n    <pre>\r\n    #!sql-mydatabase\r\n    SELECT * FROM MyDatabase.MyTable\r\n    </pre>\r\n</code>\r\n"
          },
          "output_type": "unknown"
        }
      ],
      "source": [
        "select * from table"
      ]
    },
    {
      "cell_type": "code",
      "execution_count": null,
      "metadata": {
        "dotnet_interactive": {
          "language": "csharp"
        }
      },
      "outputs": [
        {
          "data": {
            "text/plain": "Hello World again, from C#\r\n"
          },
          "output_type": "unknown"
        }
      ],
      "source": [
        "Console.WriteLine(\"Hello World again, from C#\")"
      ]
    }
  ],
  "metadata": {
    "kernelspec": {
      "display_name": ".NET (C#)",
      "language": "C#",
      "name": ".net-csharp"
    },
    "language_info": {
      "file_extension": ".cs",
      "mimetype": "text/x-csharp",
      "name": "C#",
      "pygments_lexer": "csharp",
      "version": "8.0"
    }
  },
  "nbformat": 4,
  "nbformat_minor": 4
}