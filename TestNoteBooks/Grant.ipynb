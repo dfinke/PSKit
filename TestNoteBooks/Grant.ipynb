{
    "metadata": {
        "kernelspec": {
            "name": "powershell",
            "display_name": "PowerShell"
        },
        "language_info": {
            "name": "powershell",
            "codemirror_mode": "shell",
            "mimetype": "text/x-sh",
            "file_extension": ".ps1"
        }
    },
    "nbformat_minor": 2,
    "nbformat": 4,
    "cells": [
        {"cell_type":"markdown","metadata":{},"source":["# This is function yyz"]},{
  "cell_type": "code",
  "execution_count": 1,
  "metadata": {
    "azdata_cell_guid": "477b3589-db74-4c40-a012-189a3e19427a"
  },
  "source": [
    "function yyz {\r\n    param($who)\r\n\r\n    $who\r\n}"
  ],
  "outputs": []
},{"cell_type":"markdown","metadata":{},"source":["# This is function abc"]},{
  "cell_type": "code",
  "execution_count": 1,
  "metadata": {
    "azdata_cell_guid": "7bb3efa9-e427-4628-9d58-34c48087526a"
  },
  "source": [
    "function abc {\r\n    param($who)\r\n    $who\r\n}"
  ],
  "outputs": []
}
    ]
}
