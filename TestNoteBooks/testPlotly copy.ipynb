{
  "cells": [
    {
      "cell_type": "code",
      "execution_count": 1,
      "metadata": {
        "dotnet_interactive": {
          "language": "csharp"
        }
      },
      "source": [
        "\n",
        "#r \"nuget: XPlot.Plotly.Interactive\""
      ],
      "outputs": [
        {
          "output_type": "execute_result",
          "data": {
            "text/plain": "Installed package XPlot.Plotly.Interactive version 4.0.1"
          },
          "execution_count": 1,
          "metadata": {}
        },
        {
          "output_type": "execute_result",
          "data": {
            "text/markdown": "Loading extensions from `XPlot.Plotly.Interactive.dll`"
          },
          "execution_count": 1,
          "metadata": {}
        },
        {
          "output_type": "execute_result",
          "data": {
            "text/markdown": "Configuring PowerShell Kernel for XPlot.Plotly integration."
          },
          "execution_count": 1,
          "metadata": {}
        },
        {
          "output_type": "execute_result",
          "data": {
            "text/markdown": "Installed support for XPlot.Plotly."
          },
          "execution_count": 1,
          "metadata": {}
        }
      ]
    },
    {
      "cell_type": "code",
      "execution_count": 1,
      "metadata": {
        "dotnet_interactive": {
          "language": "pwsh"
        }
      },
      "source": [
        "$count = 20\n",
        "[datetime[]] $dates = 1..$count | ForEach-Object { (Get-Date).AddMinutes((Get-Random -Minimum $_ -Maximum ($_+30))) }"
      ],
      "outputs": []
    },
    {
      "cell_type": "code",
      "execution_count": 1,
      "metadata": {
        "dotnet_interactive": {
          "language": "pwsh"
        }
      },
      "source": [
        "$openByTime = [Graph.Histogram]::new()\n",
        "$openByTime.name = \"Open\"\n",
        "$openByTime.x = $dates\n",
        "$openByTime.y = [double[]](Get-Random -Count $count -Minimum 0 -Maximum 200)\n",
        "\n",
        "$closeByTime = [Graph.Histogram]::new()\n",
        "$closeByTime.name = \"Close\"\n",
        "$closeByTime.x = $dates\n",
        "$closeByTime.y = [double[]](Get-Random -Count $count -Minimum 0 -Maximum 200)\n",
        "\n",
        "New-PlotlyChart -Trace @($openByTime, $closeByTime) | Out-Display"
      ],
      "outputs": [
        {
          "output_type": "execute_result",
          "data": {
            "text/html": "<!DOCTYPE html>\r\n<div style=\"width: 900px; height: 500px;\" id=\"49401f7c-6f38-44f6-89f9-55c11ea8f17b\"></div><script type=\"text/javascript\">\r\n\nvar renderPlotly = function() {\n    var xplotRequire = require.config({context:'xplot-3.0.1',paths:{plotly:'https://cdn.plot.ly/plotly-1.49.2.min'}}) || require;\n    xplotRequire(['plotly'], function(Plotly) { \r\n\n            var data = [{\"type\":\"histogram\",\"x\":[\"2021-04-12T11:37:29.471587-04:00\",\"2021-04-12T11:39:29.5157817-04:00\",\"2021-04-12T11:52:29.5159597-04:00\",\"2021-04-12T11:27:29.5160921-04:00\",\"2021-04-12T11:52:29.5162138-04:00\",\"2021-04-12T11:29:29.5163467-04:00\",\"2021-04-12T11:38:29.5164676-04:00\",\"2021-04-12T11:35:29.5165897-04:00\",\"2021-04-12T11:33:29.5167115-04:00\",\"2021-04-12T12:00:29.5168413-04:00\",\"2021-04-12T11:57:29.5169614-04:00\",\"2021-04-12T11:49:29.5170779-04:00\",\"2021-04-12T11:36:29.5171961-04:00\",\"2021-04-12T11:48:29.5173178-04:00\",\"2021-04-12T12:06:29.5174416-04:00\",\"2021-04-12T11:55:29.5175644-04:00\",\"2021-04-12T11:47:29.5176822-04:00\",\"2021-04-12T12:01:29.5178027-04:00\",\"2021-04-12T12:07:29.5179183-04:00\",\"2021-04-12T11:55:29.5180322-04:00\"],\"y\":[191.0,125.0,81.0,192.0,27.0,96.0,176.0,108.0,122.0,71.0,46.0,86.0,133.0,173.0,35.0,91.0,75.0,23.0,39.0,87.0],\"name\":\"Open\"},{\"type\":\"histogram\",\"x\":[\"2021-04-12T11:37:29.471587-04:00\",\"2021-04-12T11:39:29.5157817-04:00\",\"2021-04-12T11:52:29.5159597-04:00\",\"2021-04-12T11:27:29.5160921-04:00\",\"2021-04-12T11:52:29.5162138-04:00\",\"2021-04-12T11:29:29.5163467-04:00\",\"2021-04-12T11:38:29.5164676-04:00\",\"2021-04-12T11:35:29.5165897-04:00\",\"2021-04-12T11:33:29.5167115-04:00\",\"2021-04-12T12:00:29.5168413-04:00\",\"2021-04-12T11:57:29.5169614-04:00\",\"2021-04-12T11:49:29.5170779-04:00\",\"2021-04-12T11:36:29.5171961-04:00\",\"2021-04-12T11:48:29.5173178-04:00\",\"2021-04-12T12:06:29.5174416-04:00\",\"2021-04-12T11:55:29.5175644-04:00\",\"2021-04-12T11:47:29.5176822-04:00\",\"2021-04-12T12:01:29.5178027-04:00\",\"2021-04-12T12:07:29.5179183-04:00\",\"2021-04-12T11:55:29.5180322-04:00\"],\"y\":[145.0,169.0,68.0,140.0,87.0,46.0,160.0,116.0,61.0,196.0,42.0,124.0,21.0,89.0,110.0,41.0,182.0,97.0,186.0,174.0],\"name\":\"Close\"}];\n           var layout = {\"title\":\"\"};\n           Plotly.newPlot('49401f7c-6f38-44f6-89f9-55c11ea8f17b', data, layout);\n        \r\n});\n};\r\n// ensure `require` is available globally\r\nif ((typeof(require) !==  typeof(Function)) || (typeof(require.config) !== typeof(Function))) {\r\n    let require_script = document.createElement('script');\r\n    require_script.setAttribute('src', 'https://cdnjs.cloudflare.com/ajax/libs/require.js/2.3.6/require.min.js');\r\n    require_script.setAttribute('type', 'text/javascript');\r\n    \r\n    \r\n    require_script.onload = function() {\r\n        renderPlotly();\r\n    };\r\n\r\n    document.getElementsByTagName('head')[0].appendChild(require_script);\r\n}\r\nelse {\r\n    renderPlotly();\r\n}\r\n\r\n</script>\r\n"
          },
          "execution_count": 1,
          "metadata": {}
        }
      ]
    },
    {
      "cell_type": "markdown",
      "metadata": {},
      "source": [
        "# Central Limit Theorem"
      ]
    },
    {
      "cell_type": "code",
      "execution_count": 1,
      "metadata": {
        "dotnet_interactive": {
          "language": "pwsh"
        }
      },
      "source": [
        "$data = for ($i = 1; $i -le 500; $i++) {\n",
        "    $s = 0\n",
        "    for ($j = 1; $j -le 100; $j++) {\n",
        "        $s += Get-Random -Minimum 0 -Maximum 2\n",
        "    }\n",
        "    $s\n",
        "}\n",
        "\n",
        "$data = $data | Sort-Object | Group-Object | Select-Object Count, Name\n",
        "\n",
        "$clt = [Graph.Histogram]::new()\n",
        "$clt.name = \"CentralLimitTheorem\"\n",
        "$clt.x = $data.Name\n",
        "$clt.y = $data.count\n",
        "\n",
        "New-PlotlyChart -Trace $clt | Out-Display"
      ],
      "outputs": [
        {
          "output_type": "execute_result",
          "data": {
            "text/html": "<!DOCTYPE html>\r\n<div style=\"width: 900px; height: 500px;\" id=\"9193bf03-fce1-4741-a973-0485c108e6ae\"></div><script type=\"text/javascript\">\r\n\nvar renderPlotly = function() {\n    var xplotRequire = require.config({context:'xplot-3.0.1',paths:{plotly:'https://cdn.plot.ly/plotly-1.49.2.min'}}) || require;\n    xplotRequire(['plotly'], function(Plotly) { \r\n\n            var data = [{\"type\":\"histogram\",\"x\":[\"31\",\"34\",\"35\",\"37\",\"39\",\"40\",\"41\",\"42\",\"43\",\"44\",\"45\",\"46\",\"47\",\"48\",\"49\",\"50\",\"51\",\"52\",\"53\",\"54\",\"55\",\"56\",\"57\",\"58\",\"59\",\"60\",\"61\",\"63\",\"68\"],\"y\":29,\"name\":\"CentralLimitTheorem\"}];\n           var layout = {\"title\":\"\"};\n           Plotly.newPlot('9193bf03-fce1-4741-a973-0485c108e6ae', data, layout);\n        \r\n});\n};\r\n// ensure `require` is available globally\r\nif ((typeof(require) !==  typeof(Function)) || (typeof(require.config) !== typeof(Function))) {\r\n    let require_script = document.createElement('script');\r\n    require_script.setAttribute('src', 'https://cdnjs.cloudflare.com/ajax/libs/require.js/2.3.6/require.min.js');\r\n    require_script.setAttribute('type', 'text/javascript');\r\n    \r\n    \r\n    require_script.onload = function() {\r\n        renderPlotly();\r\n    };\r\n\r\n    document.getElementsByTagName('head')[0].appendChild(require_script);\r\n}\r\nelse {\r\n    renderPlotly();\r\n}\r\n\r\n</script>\r\n"
          },
          "execution_count": 1,
          "metadata": {}
        }
      ]
    }
  ],
  "metadata": {
    "kernelspec": {
      "display_name": ".NET (C#)",
      "language": "C#",
      "name": ".net-csharp"
    },
    "language_info": {
      "file_extension": ".cs",
      "mimetype": "text/x-csharp",
      "name": "C#",
      "pygments_lexer": "csharp",
      "version": "8.0"
    }
  },
  "nbformat": 4,
  "nbformat_minor": 4
}