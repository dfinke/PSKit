{
  "cells": [
    {
      "cell_type": "code",
      "execution_count": 1,
      "metadata": {
        "dotnet_interactive": {
          "language": "csharp"
        }
      },
      "source": [
        "#i \"nuget:https://pkgs.dev.azure.com/dnceng/public/_packaging/dotnet5/nuget/v3/index.json\"\n",
        "#i \"nuget:https://pkgs.dev.azure.com/dnceng/public/_packaging/dotnet-tools/nuget/v3/index.json\"\n",
        "#r \"nuget:Microsoft.DotNet.Interactive.ExtensionLab,*-*\"\n",
        "\n",
        "using Microsoft.Data.Analysis;\n",
        "using Microsoft.ML;\n",
        "using System.Collections.Generic;"
      ],
      "outputs": [
        {
          "output_type": "execute_result",
          "data": {
            "text/html": "<div><strong>Restore sources</strong><ul><li><span>https://pkgs.dev.azure.com/dnceng/public/_packaging/dotnet5/nuget/v3/index.json</span></li><li><span>https://pkgs.dev.azure.com/dnceng/public/_packaging/dotnet-tools/nuget/v3/index.json</span></li></ul></div>"
          },
          "execution_count": 1,
          "metadata": {}
        },
        {
          "output_type": "execute_result",
          "data": {
            "text/html": "<div><strong>Restore sources</strong><ul><li><span>https://pkgs.dev.azure.com/dnceng/public/_packaging/dotnet5/nuget/v3/index.json</span></li><li><span>https://pkgs.dev.azure.com/dnceng/public/_packaging/dotnet-tools/nuget/v3/index.json</span></li></ul></div>"
          },
          "execution_count": 1,
          "metadata": {}
        }
      ]
    },
    {
      "cell_type": "code",
      "execution_count": 1,
      "metadata": {
        "dotnet_interactive": {
          "language": "pwsh"
        }
      },
      "source": [
        "using namespace Microsoft.Data.Analysis\n",
        "$csvFile = \"./sales.csv\"\n",
        "\n",
        "@\"\n",
        "Region,State,Units,Price\n",
        "South,North Carolina,527,728.16\n",
        "East,Delaware,688,471.25\n",
        "North,Texas,719,613.74\n",
        "North,Wisconsin,820,488.01\n",
        "East,Oklahoma,432,538.63\n",
        "South,Virginia,805,550.82\n",
        "East,Delaware,640,857.84\n",
        "North,Delaware,577,100.25\n",
        "South,Oklahoma,233,733.69\n",
        "East,Connecticut,014,932.51\n",
        "West,Utah,303,044.61\n",
        "North,Idaho,461,743.91\n",
        "West,California,264,055.51\n",
        "East,West Virginia,982,778.12\n",
        "North,Washington,974,859.74\n",
        "\"@ > $csvFile\n",
        "\n",
        "$df = [Microsoft.Data.Analysis.DataFrame]::LoadCsv($csvfile)\n",
        "\n",
        "#!csharp\n",
        "#!share --from pwsh df\n",
        "# df.ExploreWithSandDance()\n",
        ""
      ],
      "outputs": [
        {
          "output_type": "execute_result",
          "data": {
            "text/plain": "\u001B[91mInvalidOperation: \r\n"
          },
          "execution_count": 1,
          "metadata": {}
        },
        {
          "output_type": "execute_result",
          "data": {
            "text/plain": "\u001B[96mLine |\r\n"
          },
          "execution_count": 1,
          "metadata": {}
        },
        {
          "output_type": "execute_result",
          "data": {
            "text/plain": "\u001B[96m  23 | \u001B[0m $df = \u001B[96m[Microsoft.Data.Analysis.DataFrame]\u001B[0m::LoadCsv($csvfile)\r\n"
          },
          "execution_count": 1,
          "metadata": {}
        },
        {
          "output_type": "execute_result",
          "data": {
            "text/plain": "\u001B[96m     | \u001B[91m       ~~~~~~~~~~~~~~~~~~~~~~~~~~~~~~~~~~~\r\n"
          },
          "execution_count": 1,
          "metadata": {}
        },
        {
          "output_type": "execute_result",
          "data": {
            "text/plain": "\u001B[91m\u001B[96m     | \u001B[91mUnable to find type [Microsoft.Data.Analysis.DataFrame].\u001B[0m\r\n"
          },
          "execution_count": 1,
          "metadata": {}
        },
        {
          "output_type": "error",
          "ename": "Error",
          "evalue": "[object Object]",
          "traceback": []
        }
      ]
    }
  ],
  "metadata": {
    "kernelspec": {
      "display_name": ".NET (C#)",
      "language": "C#",
      "name": ".net-csharp"
    },
    "language_info": {
      "file_extension": ".cs",
      "mimetype": "text/x-csharp",
      "name": "C#",
      "pygments_lexer": "csharp",
      "version": "8.0"
    }
  },
  "nbformat": 4,
  "nbformat_minor": 4
}