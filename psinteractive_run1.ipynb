{
  "cells": [
    {
      "cell_type": "markdown",
      "metadata": {},
      "source": []
    },
    {
      "cell_type": "code",
      "execution_count": null,
      "metadata": {
        "dotnet_interactive": {
          "language": "pwsh"
        },
        "tags": [
          "injected-parameters"
        ]
      },
      "outputs": [],
      "source": [
        "# injected parameters        \r\n",
        "$payload = @'\r\n",
        "{\r\n",
        "  \"max\": 25\r\n",
        "}\r\n",
        "'@ | ConvertFrom-Json\r\n",
        "\r\n",
        "$names = $payload.psobject.Properties.name\r\n",
        "$names | foreach-object { Set-Variable -Name $_ -Value $payload.$_ }\r\n",
        "\r\n",
        "Remove-Variable payload -ErrorAction SilentlyContinue\r\n",
        "Remove-Variable names -ErrorAction SilentlyContinue"
      ]
    },
    {
      "cell_type": "code",
      "execution_count": null,
      "metadata": {
        "dotnet_interactive": {
          "language": "pwsh"
        }
      },
      "outputs": [],
      "source": [
        "$max = !$max ? 20 : $max"
      ]
    },
    {
      "cell_type": "markdown",
      "metadata": {
        "dotnet_interactive": {
          "language": "pwsh"
        }
      },
      "source": [
        "# Odd Numbers"
      ]
    },
    {
      "cell_type": "code",
      "execution_count": null,
      "metadata": {
        "dotnet_interactive": {
          "language": "pwsh"
        }
      },
      "outputs": [],
      "source": [
        "10..$max | ? {$_ % 2 -eq 1}"
      ]
    },
    {
      "cell_type": "markdown",
      "metadata": {
        "dotnet_interactive": {
          "language": "pwsh"
        }
      },
      "source": [
        "# Even Numbers"
      ]
    },
    {
      "cell_type": "code",
      "execution_count": null,
      "metadata": {
        "dotnet_interactive": {
          "language": "pwsh"
        }
      },
      "outputs": [],
      "source": [
        "10..$max | ? {$_ % 2 -eq 0}"
      ]
    }
  ],
  "metadata": {
    "kernelspec": {
      "display_name": ".NET (C#)",
      "language": "C#",
      "name": ".net-csharp"
    },
    "language_info": {
      "name": "pwsh",
      "version": ""
    },
    "orig_nbformat": 2
  },
  "nbformat": 4,
  "nbformat_minor": 2
}