{
 "cells": [
  {
   "cell_type": "code",
   "execution_count": null,
   "metadata": {
    "dotnet_interactive": {
     "language": "pwsh"
    }
   },
   "outputs": [
    {
     "data": {
      "text/plain": "\r\n"
     },
     "output_type": "unknown"
    },
    {
     "data": {
      "text/plain": "Date                 Owner Name              issues pullRequests releases stargazers watchers forkC\r\n"
     },
     "output_type": "unknown"
    },
    {
     "data": {
      "text/plain": "                                                                                               ount\r\n"
     },
     "output_type": "unknown"
    },
    {
     "data": {
      "text/plain": "----                 ----- ----              ------ ------------ -------- ---------- -------- -----\r\n"
     },
     "output_type": "unknown"
    },
    {
     "data": {
      "text/plain": "3/27/2021 7:35:16 PM Redth dotnet-maui-check      0            3       19         47        3     4\r\n"
     },
     "output_type": "unknown"
    },
    {
     "data": {
      "text/plain": "\r\n"
     },
     "output_type": "unknown"
    }
   ],
   "source": [
    "1..3"
   ]
  }
 ],
 "metadata": {
  "kernelspec": {
   "display_name": ".NET (C#)",
   "language": "C#",
   "name": ".net-csharp"
  },
  "language_info": {
   "name": "pwsh",
   "version": ""
  },
  "orig_nbformat": 2
 },
 "nbformat": 4,
 "nbformat_minor": 2
}