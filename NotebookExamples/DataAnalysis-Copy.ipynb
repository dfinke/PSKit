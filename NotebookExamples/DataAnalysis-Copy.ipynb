{
 "cells": [
  {
   "cell_type": "markdown",
   "metadata": {},
   "source": [
    "## This is markdown\n"
   ]
  },
  {
   "cell_type": "code",
   "execution_count": 2,
   "metadata": {},
   "outputs": [],
   "source": [
    "Import-Module PSKit -Force\n",
    "\n",
    "$url = \"https://raw.githubusercontent.com/jennybc/gapminder/master/inst/extdata/gapminder.tsv\"\n",
    "\n",
    "$data = Read-Csv $url \"`t\"\n"
   ]
  },
  {
   "cell_type": "code",
   "execution_count": null,
   "metadata": {},
   "outputs": [],
   "source": [
    "$data.head() | ctmt\n"
   ]
  },
  {
   "cell_type": "code",
   "execution_count": null,
   "metadata": {},
   "outputs": [],
   "source": [
    "$data.shape() | ctmt\n"
   ]
  },
  {
   "cell_type": "code",
   "execution_count": null,
   "metadata": {},
   "outputs": [],
   "source": [
    "$data.columns() #| ctmt\n"
   ]
  },
  {
   "cell_type": "code",
   "execution_count": null,
   "metadata": {},
   "outputs": [],
   "source": [
    "$data.dTypes() | ctmt\n"
   ]
  },
  {
   "cell_type": "code",
   "execution_count": null,
   "metadata": {},
   "outputs": [],
   "source": [
    "$data.info() "
   ]
  },
  {
   "cell_type": "code",
   "execution_count": null,
   "metadata": {},
   "outputs": [],
   "source": [
    "$data.country.head()\n"
   ]
  },
  {
   "cell_type": "code",
   "execution_count": null,
   "metadata": {},
   "outputs": [],
   "source": [
    "$data.country.tail()"
   ]
  },
  {
   "cell_type": "code",
   "execution_count": null,
   "metadata": {},
   "outputs": [],
   "source": [
    "$subset = $data | select country, continent, year\n",
    "$subset | ctmt"
   ]
  },
  {
   "cell_type": "code",
   "execution_count": null,
   "metadata": {
    "scrolled": true
   },
   "outputs": [],
   "source": [
    "$data[0] | ctmt"
   ]
  },
  {
   "cell_type": "code",
   "execution_count": null,
   "metadata": {},
   "outputs": [],
   "source": [
    "$data[99] | ctmt"
   ]
  },
  {
   "cell_type": "code",
   "execution_count": null,
   "metadata": {},
   "outputs": [],
   "source": [
    "$data[-1] | ctmt"
   ]
  },
  {
   "cell_type": "code",
   "execution_count": null,
   "metadata": {},
   "outputs": [],
   "source": [
    "$lastRow = $data.shape().Rows - 1\n",
    "$data[$lastRow] | ctmt"
   ]
  },
  {
   "cell_type": "code",
   "execution_count": null,
   "metadata": {},
   "outputs": [],
   "source": [
    "$data.tail(1) | ctmt"
   ]
  },
  {
   "cell_type": "code",
   "execution_count": null,
   "metadata": {},
   "outputs": [],
   "source": [
    "$data.head(1) | ctmt"
   ]
  },
  {
   "cell_type": "code",
   "execution_count": null,
   "metadata": {},
   "outputs": [],
   "source": [
    "$data[0,99,999] | ctmt"
   ]
  },
  {
   "cell_type": "code",
   "execution_count": null,
   "metadata": {},
   "outputs": [],
   "source": [
    "$subset = $data | select year, pop\n",
    "\n",
    "$subset.head() | ctmt"
   ]
  },
  {
   "cell_type": "code",
   "execution_count": null,
   "metadata": {},
   "outputs": [],
   "source": [
    "$range = 0..4\n",
    "\n",
    "$data[$range] | ctmt"
   ]
  },
  {
   "cell_type": "code",
   "execution_count": null,
   "metadata": {},
   "outputs": [],
   "source": [
    "$range = 0,6,2\n",
    "\n",
    "$data[$range] | ctmt"
   ]
  },
  {
   "cell_type": "code",
   "execution_count": null,
   "metadata": {},
   "outputs": [],
   "source": [
    "$data[42].Country \n"
   ]
  },
  {
   "cell_type": "code",
   "execution_count": null,
   "metadata": {},
   "outputs": [],
   "source": [
    "$data[10..13] | Select Country, liefExp, gdpPerCap | ctmt\n"
   ]
  },
  {
   "cell_type": "code",
   "execution_count": 12,
   "metadata": {},
   "outputs": [],
   "source": [
    "# Group-ByAndMeasure -targetData $data -GroupBy year -MeasureProperty lifeExp -MeasureOperation Average | ctmt"
   ]
  },
  {
   "cell_type": "code",
   "execution_count": 4,
   "metadata": {},
   "outputs": [
    {
     "data": {
      "text/html": [
       "<table>\n",
       "<thead>\n",
       "<tr>\n",
       "<th>country</th>\n",
       "<th>continent</th>\n",
       "<th>year</th>\n",
       "<th>lifeExp</th>\n",
       "<th>pop</th>\n",
       "<th>gdpPercap</th>\n",
       "</tr>\n",
       "</thead>\n",
       "<tbody>\n",
       "<tr>\n",
       "<td>Afghanistan</td>\n",
       "<td>Asia</td>\n",
       "<td>1952</td>\n",
       "<td>28.801</td>\n",
       "<td>8425333</td>\n",
       "<td>779.4453145</td>\n",
       "</tr>\n",
       "<tr>\n",
       "<td>Swaziland</td>\n",
       "<td>Africa</td>\n",
       "<td>1987</td>\n",
       "<td>57.678</td>\n",
       "<td>779348</td>\n",
       "<td>3984.839812</td>\n",
       "</tr>\n",
       "</tbody>\n",
       "</table>\n"
      ]
     },
     "metadata": {},
     "output_type": "display_data"
    }
   ],
   "source": [
    "$data.ScanProperties(\"^779\") | ctmt"
   ]
  },
  {
   "cell_type": "code",
   "execution_count": 13,
   "metadata": {},
   "outputs": [
    {
     "data": {
      "text/html": [
       "<table>\n",
       "<thead>\n",
       "<tr>\n",
       "<th>year, continent</th>\n",
       "<th>Average</th>\n",
       "</tr>\n",
       "</thead>\n",
       "<tbody>\n",
       "<tr>\n",
       "<td>1952, Africa</td>\n",
       "<td>39.1355</td>\n",
       "</tr>\n",
       "<tr>\n",
       "<td>1952, Americas</td>\n",
       "<td>53.27984</td>\n",
       "</tr>\n",
       "<tr>\n",
       "<td>1952, Asia</td>\n",
       "<td>46.3143939393939</td>\n",
       "</tr>\n",
       "<tr>\n",
       "<td>1952, Europe</td>\n",
       "<td>64.4085</td>\n",
       "</tr>\n",
       "<tr>\n",
       "<td>1952, Oceania</td>\n",
       "<td>69.255</td>\n",
       "</tr>\n",
       "<tr>\n",
       "<td>1957, Africa</td>\n",
       "<td>41.2663461538461</td>\n",
       "</tr>\n",
       "<tr>\n",
       "<td>1957, Americas</td>\n",
       "<td>55.96028</td>\n",
       "</tr>\n",
       "<tr>\n",
       "<td>1957, Asia</td>\n",
       "<td>49.3185442424243</td>\n",
       "</tr>\n",
       "<tr>\n",
       "<td>1957, Europe</td>\n",
       "<td>66.7030666666667</td>\n",
       "</tr>\n",
       "<tr>\n",
       "<td>1957, Oceania</td>\n",
       "<td>70.295</td>\n",
       "</tr>\n",
       "<tr>\n",
       "<td>1962, Africa</td>\n",
       "<td>43.3194423076923</td>\n",
       "</tr>\n",
       "<tr>\n",
       "<td>1962, Americas</td>\n",
       "<td>58.39876</td>\n",
       "</tr>\n",
       "<tr>\n",
       "<td>1962, Asia</td>\n",
       "<td>51.563223030303</td>\n",
       "</tr>\n",
       "<tr>\n",
       "<td>1962, Europe</td>\n",
       "<td>68.5392333333333</td>\n",
       "</tr>\n",
       "<tr>\n",
       "<td>1962, Oceania</td>\n",
       "<td>71.085</td>\n",
       "</tr>\n",
       "<tr>\n",
       "<td>1967, Africa</td>\n",
       "<td>45.3345384615385</td>\n",
       "</tr>\n",
       "<tr>\n",
       "<td>1967, Americas</td>\n",
       "<td>60.41092</td>\n",
       "</tr>\n",
       "<tr>\n",
       "<td>1967, Asia</td>\n",
       "<td>54.66364</td>\n",
       "</tr>\n",
       "<tr>\n",
       "<td>1967, Europe</td>\n",
       "<td>69.7376</td>\n",
       "</tr>\n",
       "<tr>\n",
       "<td>1967, Oceania</td>\n",
       "<td>71.31</td>\n",
       "</tr>\n",
       "<tr>\n",
       "<td>1972, Africa</td>\n",
       "<td>47.4509423076923</td>\n",
       "</tr>\n",
       "<tr>\n",
       "<td>1972, Americas</td>\n",
       "<td>62.39492</td>\n",
       "</tr>\n",
       "<tr>\n",
       "<td>1972, Asia</td>\n",
       "<td>57.3192690909091</td>\n",
       "</tr>\n",
       "<tr>\n",
       "<td>1972, Europe</td>\n",
       "<td>70.7750333333333</td>\n",
       "</tr>\n",
       "<tr>\n",
       "<td>1972, Oceania</td>\n",
       "<td>71.91</td>\n",
       "</tr>\n",
       "<tr>\n",
       "<td>1977, Africa</td>\n",
       "<td>49.5804230769231</td>\n",
       "</tr>\n",
       "<tr>\n",
       "<td>1977, Americas</td>\n",
       "<td>64.39156</td>\n",
       "</tr>\n",
       "<tr>\n",
       "<td>1977, Asia</td>\n",
       "<td>59.6105563636364</td>\n",
       "</tr>\n",
       "<tr>\n",
       "<td>1977, Europe</td>\n",
       "<td>71.9377666666667</td>\n",
       "</tr>\n",
       "<tr>\n",
       "<td>1977, Oceania</td>\n",
       "<td>72.855</td>\n",
       "</tr>\n",
       "<tr>\n",
       "<td>1982, Africa</td>\n",
       "<td>51.5928653846154</td>\n",
       "</tr>\n",
       "<tr>\n",
       "<td>1982, Americas</td>\n",
       "<td>66.22884</td>\n",
       "</tr>\n",
       "<tr>\n",
       "<td>1982, Asia</td>\n",
       "<td>62.6179393939394</td>\n",
       "</tr>\n",
       "<tr>\n",
       "<td>1982, Europe</td>\n",
       "<td>72.8064</td>\n",
       "</tr>\n",
       "<tr>\n",
       "<td>1982, Oceania</td>\n",
       "<td>74.29</td>\n",
       "</tr>\n",
       "<tr>\n",
       "<td>1987, Africa</td>\n",
       "<td>53.3447884615385</td>\n",
       "</tr>\n",
       "<tr>\n",
       "<td>1987, Americas</td>\n",
       "<td>68.09072</td>\n",
       "</tr>\n",
       "<tr>\n",
       "<td>1987, Asia</td>\n",
       "<td>64.8511818181818</td>\n",
       "</tr>\n",
       "<tr>\n",
       "<td>1987, Europe</td>\n",
       "<td>73.6421666666667</td>\n",
       "</tr>\n",
       "<tr>\n",
       "<td>1987, Oceania</td>\n",
       "<td>75.32</td>\n",
       "</tr>\n",
       "<tr>\n",
       "<td>1992, Africa</td>\n",
       "<td>53.6295769230769</td>\n",
       "</tr>\n",
       "<tr>\n",
       "<td>1992, Americas</td>\n",
       "<td>69.56836</td>\n",
       "</tr>\n",
       "<tr>\n",
       "<td>1992, Asia</td>\n",
       "<td>66.5372121212121</td>\n",
       "</tr>\n",
       "<tr>\n",
       "<td>1992, Europe</td>\n",
       "<td>74.4401</td>\n",
       "</tr>\n",
       "<tr>\n",
       "<td>1992, Oceania</td>\n",
       "<td>76.945</td>\n",
       "</tr>\n",
       "<tr>\n",
       "<td>1997, Africa</td>\n",
       "<td>53.5982692307692</td>\n",
       "</tr>\n",
       "<tr>\n",
       "<td>1997, Americas</td>\n",
       "<td>71.15048</td>\n",
       "</tr>\n",
       "<tr>\n",
       "<td>1997, Asia</td>\n",
       "<td>68.0205151515152</td>\n",
       "</tr>\n",
       "<tr>\n",
       "<td>1997, Europe</td>\n",
       "<td>75.5051666666667</td>\n",
       "</tr>\n",
       "<tr>\n",
       "<td>1997, Oceania</td>\n",
       "<td>78.19</td>\n",
       "</tr>\n",
       "<tr>\n",
       "<td>2002, Africa</td>\n",
       "<td>53.3252307692308</td>\n",
       "</tr>\n",
       "<tr>\n",
       "<td>2002, Americas</td>\n",
       "<td>72.42204</td>\n",
       "</tr>\n",
       "<tr>\n",
       "<td>2002, Asia</td>\n",
       "<td>69.2338787878788</td>\n",
       "</tr>\n",
       "<tr>\n",
       "<td>2002, Europe</td>\n",
       "<td>76.7006</td>\n",
       "</tr>\n",
       "<tr>\n",
       "<td>2002, Oceania</td>\n",
       "<td>79.74</td>\n",
       "</tr>\n",
       "<tr>\n",
       "<td>2007, Africa</td>\n",
       "<td>54.8060384615384</td>\n",
       "</tr>\n",
       "<tr>\n",
       "<td>2007, Americas</td>\n",
       "<td>73.60812</td>\n",
       "</tr>\n",
       "<tr>\n",
       "<td>2007, Asia</td>\n",
       "<td>70.7284848484848</td>\n",
       "</tr>\n",
       "<tr>\n",
       "<td>2007, Europe</td>\n",
       "<td>77.6486</td>\n",
       "</tr>\n",
       "<tr>\n",
       "<td>2007, Oceania</td>\n",
       "<td>80.7195</td>\n",
       "</tr>\n",
       "</tbody>\n",
       "</table>\n"
      ]
     },
     "metadata": {},
     "output_type": "display_data"
    }
   ],
   "source": [
    "#$calc = Group-ByAndMeasure -targetData $data -GroupBy year, continent -MeasureProperty lifeExp, gdpPercap -MeasureOperation Average \n",
    "$calc = Group-ByAndMeasure -targetData $data -GroupBy year, continent -MeasureProperty lifeExp -MeasureOperation Average \n",
    "$calc | ctmt"
   ]
  },
  {
   "cell_type": "code",
   "execution_count": 15,
   "metadata": {},
   "outputs": [
    {
     "name": "stdout",
     "output_type": "stream",
     "text": [
      "Entries: 60\r\n",
      "Columns:  2\r\n",
      "\r\n",
      "\r\n",
      "ColumnName      NonNull DataType\r\n",
      "----------      ------- --------\r\n",
      "year, continent      60 string\r\n",
      "Average              60 double\r\n",
      "\r\n",
      "\r\n",
      "double(1) string(1)\r\n"
     ]
    }
   ],
   "source": [
    "$calc.info()"
   ]
  }
 ],
 "metadata": {
  "kernelspec": {
   "display_name": ".NET (PowerShell)",
   "language": "PowerShell",
   "name": ".net-powershell"
  },
  "language_info": {
   "file_extension": ".ps1",
   "mimetype": "text/x-powershell",
   "name": "PowerShell",
   "pygments_lexer": "powershell",
   "version": "7.0"
  }
 },
 "nbformat": 4,
 "nbformat_minor": 2
}
