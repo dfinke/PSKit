{
 "cells": [
  {
   "cell_type": "code",
   "execution_count": 6,
   "metadata": {},
   "outputs": [],
   "source": [
    "if(Test-path \"C:\\Users\\Douglas\\Documents\\GitHub\\MyPrivateGit\\PSKit\\PSKit.psd1\") {\n",
    "    ipmo C:\\Users\\Douglas\\Documents\\GitHub\\MyPrivateGit\\PSKit\\PSKit.psd1 -force\n",
    "} else {\n",
    "    ipmo PSKit -force\n",
    "}"
   ]
  },
  {
   "cell_type": "code",
   "execution_count": 7,
   "metadata": {},
   "outputs": [
    {
     "data": {
      "text/html": [
       "<div id=\"4dfc1ebb-c585-4853-a6bb-d3c985f8470f\" style=\"width: 900px; height: 500px;\"></div>\r\n",
       "<script type=\"text/javascript\">\r\n",
       "\r\n",
       "var renderPlotly = function() {\r\n",
       "    var xplotRequire = requirejs.config({context:'xplot-3.0.1',paths:{plotly:'https://cdn.plot.ly/plotly-1.49.2.min'}});\r\n",
       "    xplotRequire(['plotly'], function(Plotly) {\r\n",
       "\n",
       "            var data = [{\"type\":\"scatter\",\"x\":[\"1952\",\"1957\",\"1962\",\"1967\",\"1972\",\"1977\",\"1982\",\"1987\",\"1992\",\"1997\",\"2002\",\"2007\"],\"y\":[49.05761971830987,51.507401126760534,53.60924901408449,55.67828957746479,57.647386478873244,59.57015746478873,61.53319718309858,63.21261267605636,64.16033802816901,65.01467605633805,65.69492253521126,67.00742253521126]}];\n",
       "            var layout = {\"title\":\"Average Life Expectancy\"};\n",
       "            Plotly.newPlot('4dfc1ebb-c585-4853-a6bb-d3c985f8470f', data, layout);\n",
       "        \r\n",
       "});\r\n",
       "};\r\n",
       "if ((typeof(requirejs) !==  typeof(Function)) || (typeof(requirejs.config) !== typeof(Function))) { \r\n",
       "    var script = document.createElement(\"script\"); \r\n",
       "    script.setAttribute(\"src\", \"https://cdnjs.cloudflare.com/ajax/libs/require.js/2.3.6/require.min.js\"); \r\n",
       "    script.onload = function(){\r\n",
       "        renderPlotly();\r\n",
       "    };\r\n",
       "    document.getElementsByTagName(\"head\")[0].appendChild(script); \r\n",
       "}\r\n",
       "else {\r\n",
       "    renderPlotly();\r\n",
       "}\r\n",
       "</script>\r\n"
      ]
     },
     "metadata": {},
     "output_type": "display_data"
    }
   ],
   "source": [
    "$url = \"https://raw.githubusercontent.com/jennybc/gapminder/master/inst/extdata/gapminder.tsv\"\n",
    "$data = Read-Csv $url \"`t\"\n",
    "\n",
    "$calc = Group-ByAndMeasure -targetData $data -GroupBy year -MeasureProperty lifeExp -MeasureOperation Average \n",
    "\n",
    "$calc.Plot('year','Average','Average Life Expectancy')"
   ]
  },
  {
   "cell_type": "code",
   "execution_count": null,
   "metadata": {},
   "outputs": [],
   "source": [
    "$d = read-csv 'https://raw.githubusercontent.com/CSSEGISandData/COVID-19/master/csse_covid_19_data/csse_covid_19_time_series/time_series_19-covid-Confirmed.csv'"
   ]
  },
  {
   "cell_type": "code",
   "execution_count": null,
   "metadata": {},
   "outputs": [],
   "source": [
    "# $d.info()"
   ]
  }
 ],
 "metadata": {
  "kernelspec": {
   "display_name": ".NET (PowerShell)",
   "language": "PowerShell",
   "name": ".net-powershell"
  },
  "language_info": {
   "file_extension": ".ps1",
   "mimetype": "text/x-powershell",
   "name": "PowerShell",
   "pygments_lexer": "powershell",
   "version": "7.0"
  }
 },
 "nbformat": 4,
 "nbformat_minor": 2
}
